{
 "cells": [
  {
   "cell_type": "markdown",
   "metadata": {},
   "source": [
    "# Chapter 4. Equity Modeling #\n",
    "&copy; 2022 Kenneth Winston\n",
    "\n",
    "While the pricing formula \\eqref{eq:generic_pricing} is generic enough to cover just about any financial arrangement, it is most useful for fixed income instruments where the planned cash flows are highly likely. As the times and amounts in \\eqref{eq:generic_pricing} become less and less certain, the value of enumerating possible but not probable cash flows gets lower and lower.\n",
    "\n",
    "As a result equity modelers have taken other approaches that have more dominant random components. <a name=\"bachelier\"></a>In his 1900 PhD thesis at the Sorbonne, [Louis Bachelier](https://books.google.com/books?id=XcZwuHGRxsgC&pg) originated an approach to equity that provides the basis for many current models. His approach was essentially formula \\eqref{eq:sde_percentage_changes}; the key insight was the use of Brownian motion ($d\\beta$ in \\eqref{eq:sde_percentage_changes}) 5 years before Einstein's paper on the subject. For good measure Bachelier covered options pricing, anticipating by over 70 years the [Black-Scholes option pricing formula](https://doi.org/10.1086%2F260062)\n",
    "\n",
    "Bachelier's work was largely forgotten by financial economists until it was rediscovered and promoted by the statistician [Leonard Jimmie Savage](https://www.jstor.org/stable/2240741) in the 1950s. Whether they knew it or not, many economists and financial modelers starting in the 1950s and 1960s were using Bachelier's ideas.\n",
    "\n",
    "We'll discuss some of the most common equity models, starting with Harry Markowitz's efficient frontier. (The word \"efficient\" here is used in a different sense than in the EMH.) We'll then briefly review Bayes's Rule, and see how Bayesian adjustments are often used in practical methods to select portfolios with simultaneous risk and reward optimization.\n",
    "\n",
    "Building on these ideas, we'll show a practical and widely used Bayesian method for equity expected return estimation, the Black-Litterman algorithm."
   ]
  },
  {
   "cell_type": "markdown",
   "metadata": {},
   "source": [
    "## 4.1 Markowitz Efficient Frontier\n",
    "<a name=\"markowitz_efficient_frontier\"></a>\n",
    "\n",
    "Harry Markowitz is considered the father of quantitative finance. In a [1952 Journal of Finance article](https://doi.org/10.2307/2975974), he considered the problem of how investors should assemble sets of assets (**`portfolios`**) from individual assets. He expanded on these ideas in his 1954 PhD thesis at the University of Chicago and in a [1959 book](https://www.jstor.org/stable/j.ctt1bh4c8h).\n",
    "\n",
    "Prior to Markowitz, investment managers who constructed portfolios had a concept that risk was something you needed to be compensated for bearing. This was compatible with Frank Knight's formulation of risk as lack of information about the future: you needed to be paid to expose your portfolio to an unknown future. However, there was no metric for risk and therefore no precise link between how much risk you took and how much you needed to be compensated for it.\n",
    "\n",
    "The idea that you could put a number on financial risk &mdash; that you could measure your lack of information about the future of an investment &mdash; is essentially due to Markowitz, who won the [1990 Sveriges Riksbank Prize in Economic Sciences in Memory of Alfred Nobel](https://www.nobelprize.org/prizes/economic-sciences/1990/press-release/) for his work. Markowitz is currently an adjunct professor at the [University of California at San Diego](https://rady.ucsd.edu/people/faculty/markowitz/).\n",
    "\n",
    "One way of thinking of a portfolio is as an n-vector $w$ (where n is the number of all the assets in the world) that satisfies the **`budget constraint`** $w^{\\intercal}u=1$ (u the unit n-vector of all ones). $w$ is the vector of weights of assets you own at a certain time, scaled so it represents 100% of your wealth. $w$ can contain negative values.\n",
    "\n",
    "The **`return`** or **`rate of return`** on an asset during a time period is the ending value of the asset divided by the beginning value of the asset, minus one. If there are distributions such as dividends or coupons during the period, they are added (possibly in a time-adjusted way) to the ending value. The returns on the $n$ assets in the world during a period can be characterized by a random variable $n$-vector $r$. Thus the scalar random variable giving the return of a portfolio $w$ during the period is $w^{\\intercal}r.$\n",
    "\n",
    "Markowitz introduced the idea that investors think of risk as volatility, as measured by the statistic standard deviation (or its square, variance). In our notation, standard deviation $\\sigma$ of a portfolio $w$ is $\\sigma=\\sqrt{\\mathbb{E}[\\bigl(w^{\\intercal}(r-\\mathbb{E}[r]\\bigr)^2]}=\\sqrt{w^{\\intercal}\\mathbb{E}[(r-\\mathbb{E}[r])(r-\\mathbb{E}[r])^{\\intercal}]w}$. This is sensible and intuitive, as we noted in Chapter 2: there is less information about the future in a high-volatility series than in a low-volatility series.\n",
    "\n",
    "Based on this intuition, Markowitz's basic formulation was:\n",
    ">Given a choice between two portfolios with the same expected (arithmetic) return, any rational investor will prefer the one with less risk (that is, less variance of returns).\n",
    "\n",
    "Equivalently\n",
    ">Given a choice between two portfolios with the same risk (variance of returns), any rational investor will prefer the one with more arithmetic or expected return.\n",
    "\n",
    "Consider again the [Generous Billionaires](#generous_billionaires) of Chapter 1. We saw that because of risk aversion, most people would not value a coin toss for $\\$1,000,000,000$ or $\\$0$ at the average $\\$500,000,000$. Put another way, most people would pay far less than $\\$500,000,000$ to purchase a portfolio consisting of one Generous Billionaire tossing a coin for a billion or zero.\n",
    "\n",
    "But suppose that you were able to form a portfolio of 100 coin-tossing [Generous Billionaires](#generous_billionaires), each tossing a different coin and paying $\\$10,000,000$ on heads and nothing on tails. Your best and worst cases are still one billion and zero, as they were with the single coin-tossing [Generous Billionaire](#generous_billionaires). But the chance of your portfolio being worth nothing is now $2^{-100}$, which is effectively zero. The outcomes of your portfolio form a binomial distribution; the chance of you getting less than $\\$310,000,000$ is less than $10^{-4}$. The average value of the portfolio is still $\\$500,000,000$. But by just about any measure, risk has gone down.\n",
    "\n",
    "So by forming a portfolio, you get the same reward as a single coin toss, with less risk. In Markowitz's formulation, the portfolio of 100 coin-tossing billionaires is more _efficient_ than the portfolio of one coin-tossing billionaire. It has the same expected return, and lower standard deviation (\\\\$5 million vs. \\\\$500 million).\n",
    "\n",
    "This is not just financial wizardry; **`diversification`** is often a better way to allocate human efforts. Pursuing 100 different ventures may be a better technique for progress than everyone working on one venture, just like it was better for the farmer and the hunter in the [two-person economy](#two_person_economy) to pool their different food-gathering efforts.\n",
    "\n",
    "Markowitz's primary risk metric, standard deviation, fails the ADEH monotonicity criterion discussed in Chapter 2, but is otherwise coherent. Actually the near-coherent risk metric is $\\rho(X)=\\lambda\\sigma(X)-\\mu(X)$, where $\\lambda>0$ is a scalar and $\\sigma(X)$ and $\\mu(X)$ are the standard deviation and mean of $X$. Suppose $R_f$ and $Y$ are random variables that cost the same at present. $R_f$ is the [risk-free instrument](#risk_free_instrument) that will be worth \\\\$1 in all future states, while $Y$ will be worth $\\$1$ half the time and $\\$3$ the other half the time. $\\rho(R_f)=-1$ while $\\rho(Y)=\\lambda-2$, so the statewise dominant $Y$ shows more risk than $R_f$ when $\\lambda$ is large enough. Thus standard deviation can say there is risk in taking advantage of [riskless arbitrages](#no_arbitrage); that's nonsense. Fortunately Markowitz's framework had few of the kinds of instruments &mdash; like derivatives &mdash; that would be the most obvious source of such arbitrage possibilities.\n",
    "\n",
    "Once you have accepted the idea that a rational investor will choose the less risky portfolio from two with the same arithmetic mean return, you can form an **`efficient frontier`**: a set of portfolios that have the least possible risk at a given level of return; or the greatest possible return at a given level of risk. An efficient portfolio is one that achieves equipoise between the increase-return and decrease-risk goals.\n",
    "\n",
    "<a name=\"markowitz_m_vector\"></a>\n",
    "Let $\\boldsymbol{m}=\\mathbb{E}[\\boldsymbol{r}]=(\\mathbb{E}[r_1],\\mathbb{E}[r_2],\\dots\\mathbb{E}[r_n])^{\\intercal}$ be the vector of expected returns from now until one period in the future. Here $r_i$ is the scalar random variable giving returns of the $i^{th}$ asset and $\\mathbb{E}[]$ is the expected value operator. Then $\\mathbb{E}[\\boldsymbol{w^{\\intercal}r}]=\\boldsymbol{m^{\\intercal}w}$. Let\n",
    "\n",
    "$$C=\\begin{bmatrix}\n",
    "\\sigma_1^2&\\sigma_{12}&\\dots&\\sigma_{1n}\\\\\n",
    "\\sigma_{21}&\\sigma_2^2&\\dots&\\sigma_{2n}\\\\\n",
    "\\dots\\\\\n",
    "\\sigma_{n1}&\\sigma_{n2}&\\dots&\\sigma_n^2\\\\\n",
    "\\end{bmatrix}\\label{eq:covariance_matrix}\\tag{4.10}$$\n",
    "be the covariance matrix of returns, $C=\\mathbb{E}[(r-\\mathbb{E}[r])(r-\\mathbb{E}[r])^{\\intercal}]=\\mathbb{E}[rr^{\\intercal}]-\\mathbb{E}[r]\\mathbb{E}[r]^{\\intercal}$. The $(i,j)$ term looks like $\\sigma_{ij}=\\mathbb{E}[(r_i-\\mathbb{E}[r_i])(r_j-\\mathbb{E}[r_j])]$. Note we sometimes write $\\sigma_i^2$ instead of $\\sigma_{ii}$ for the $i^{th}$ diagonal term.\n",
    "\n",
    "Then if $\\boldsymbol{w}$ is a portfolio n-vector, $Var[\\boldsymbol{w^{\\intercal}r}]=\\boldsymbol{w^{\\intercal}}C\\boldsymbol{w}$, where Var is the variance (not value-at-risk) operator. If $\\boldsymbol{w}$ is a portfolio on the efficient frontier and $\\boldsymbol{v}$ is another portfolio with $\\boldsymbol{w^{\\intercal}m=v^{\\intercal}m}$ (that is, they have the same expected or arithmetic mean returns), then we must have $Var[\\boldsymbol{v^{\\intercal}r}]\\geq Var[\\boldsymbol{w^{\\intercal}r}]$. Equivalently if $Var[\\boldsymbol{v^{\\intercal}r}]=Var[\\boldsymbol{w^{\\intercal}r}]$ then we must have $\\boldsymbol{w^{\\intercal}m\\geq v^{\\intercal}m}$.\n",
    "\n",
    "The dark blue curve on top of the dots in Figure 4.1 is the efficient frontier &mdash; you can't get any higher than that at a given point on the x axis, nor can you get any further to the left for a given point on the y axis. All the other dots represent inefficient portfolios."
   ]
  },
  {
   "cell_type": "code",
   "execution_count": 1,
   "metadata": {},
   "outputs": [
    {
     "name": "stderr",
     "output_type": "stream",
     "text": [
      "C:\\Users\\kenwi\\AppData\\Local\\Temp\\ipykernel_17464\\2916698953.py:11: UserWarning: color is redundantly defined by the 'color' keyword argument and the fmt string \"bD\" (-> color='b'). The keyword argument will take precedence.\n",
      "  plt.plot(t, .7*(t-.04)**.5-.04, 'bD', color='darkblue')\n"
     ]
    },
    {
     "data": {
      "image/png": "[encoded data removed]",
      "text/plain": [
       "<Figure size 432x288 with 1 Axes>"
      ]
     },
     "metadata": {
      "needs_background": "light"
     },
     "output_type": "display_data"
    }
   ],
   "source": [
    "#Graph an efficient frontier with inefficient\n",
    "#points below it\n",
    "import matplotlib.pyplot as plt\n",
    "%matplotlib inline\n",
    "import numpy as np\n",
    "\n",
    "# evenly sampled standard deviation\n",
    "t = np.arange(0.05, .2, 0.005)\n",
    "\n",
    "#Plot the frontier\n",
    "plt.plot(t, .7*(t-.04)**.5-.04, 'bD', color='darkblue')\n",
    "markers=['o','*','8','s','p','x']\n",
    "colors=['yellow','red','green','orange','black','magenta']\n",
    "#Six sets of random inefficient portfolios\n",
    "np.random.seed(602215)\n",
    "for i in range(6):\n",
    "    s=np.random.uniform(0,1,len(t))\n",
    "    plt.scatter(t, s*(.7*(t-.04)**.5-.04), marker=markers[i], color=colors[i])\n",
    "plt.axis([0,.2,0,.25])\n",
    "plt.title('Figure 4.1: Efficient Frontier and Inefficient Portfolios')\n",
    "plt.xlabel('Risk (annual std. deviation)')\n",
    "plt.ylabel('Reward (arith. annual return)')\n",
    "plt.grid(True)\n",
    "plt.show();"
   ]
  },
  {
   "cell_type": "markdown",
   "metadata": {},
   "source": [
    "### 4.1.1 Equality-Constrained Frontier\n",
    "<a><a name=\"equality_constrained_frontier\"></a>\n",
    "\n",
    "Markowitz did not initially think about multiperiod portfolio construction, as that was too hard to deal with in 1952. Thus the issue of compounding and the relationship between arithmetic means and geometric (compound) means was avoided. He did not require multivariate normal distributions.\n",
    "\n",
    "Finding an efficient portfolio n-vector $\\boldsymbol{w}$ with a specified mean return $\\mu$ is a quadratic optimization problem:\n",
    "$$\\text{Minimize  }\\boldsymbol{w^{\\intercal}}C\\boldsymbol{w}\\label{eq:equal_frontier}\\tag{4.11}$$\n",
    "$$\\text{Subject to } \\boldsymbol{w^{\\intercal}m=\\mu} \\text{ and } \\boldsymbol{w^{\\intercal}u}=1$$\n",
    "\n",
    "Of course there are many other constraints we might impose, the most obvious being non-negative holdings. In 1952, there was [only one hedge fund](http://awjones.com/legacy/) that systematically had negative holdings (short sales). Today there are far more such portfolios, but there are also many portfolios that restrict themselves to non-negative holdings.\n",
    "\n",
    "Long-only requirements are _inequality constraints_, which don't have a closed-form solution. But to solve just the equality-constrained problem in \\eqref{eq:equal_frontier}, Lagrange multipliers can be used. The derivative with respect to $\\boldsymbol{w}$ of the Lagrangian\n",
    "$$\\boldsymbol{w^{\\intercal}}C\\boldsymbol{w}-\\lambda_1(\\boldsymbol{w^{\\intercal}m}-\\mu)-\\lambda_2(\\boldsymbol{w^{\\intercal}u}-1)$$\n",
    "is\n",
    "$$2C\\boldsymbol{w}-\\lambda_1m-\\lambda_2u=0$$\n",
    "If $C$ is nonsingular, that becomes\n",
    "$$\\boldsymbol{w}=C^{-1}(\\lambda_1 m + \\lambda_2 u)\\label{eq:equal_frontier_lagrange}\\tag{4.12}$$\n",
    "where the $\\lambda$'s are rescaled in order to drop a factor of 2.\n",
    "\n",
    "Left-multiplying \\eqref{eq:equal_frontier_lagrange} by $\\boldsymbol{m^{\\intercal}}$ and $u^{\\intercal}$, respectively, gives\n",
    "$$\\mu=m^{\\intercal}C^{-1}(\\lambda_1 m+\\lambda_2 u)$$\n",
    "$$1=u^{\\intercal}C^{-1}(\\lambda_1 m+\\lambda_2 u)$$\n",
    "\n",
    "Solving for the Lagrange multipliers $\\lambda_1$ and $\\lambda_2$ gives\n",
    "$$\\lambda_1=\\frac{(u^{\\intercal}C^{-1}u)\\mu-u^{\\intercal}C^{-1}m}{(u^{\\intercal}C^{-1}u)(m^{\\intercal}C^{-1}m)-(u^{\\intercal}C^{-1}m)^2}\\label{eq:equal_frontier_lambda_one}\\tag{4.13}$$\n",
    "We can solve for $\\lambda_2$ as a function of $\\lambda_1$:\n",
    "$$\\lambda_2=\\frac{1-(u^{\\intercal}C^{-1}m)\\lambda_1}{u^{\\intercal}C^{-1}u}\\label{eq:equal_frontier_lambda_two}\\tag{4.14}$$\n",
    "\\eqref{eq:equal_frontier_lambda_one} expresses $\\lambda_1$ as a function of the desired mean return $\\mu$, or $\\mu$ as a function of $\\lambda_1$. It will be more convenient to look at it the second way, and retain $\\lambda_1$ as a varying parameter that moves along the efficient frontier. Together with \\eqref{eq:equal_frontier_lagrange}, \\eqref{eq:equal_frontier_lambda_one} and \\eqref{eq:equal_frontier_lambda_two} give the expression for efficient portfolios $\\boldsymbol{w}$ as a function of the varying parameter $\\lambda_1$:\n",
    "$$w=\\lambda_1\\bigl(I-\\frac{C^{-1}J}{u^{\\intercal}C^{-1}u}\\bigr)C^{-1}m+\\frac{C^{-1}u}{u^{\\intercal}C^{-1}u}\\label{eq:equal_frontier_two_fund}\\tag{4.15}$$\n",
    "where $J=\\boldsymbol{uu^{\\intercal}}$ is the nxn matrix of all ones. The variance at the solution is\n",
    "$$w^{\\intercal}Cw=\\lambda_1^2\\bigl(\\frac{(u^{\\intercal}C^{-1}u)(m^{\\intercal}C^{-1}m)-(u^{\\intercal}C^{-1}m)^2}{u^{\\intercal}C^{-1}u}\\bigr)+\\frac{1}{u^{\\intercal}C^{-1}u}\\label{eq:equal_frontier_variance}\\tag{4.16}$$\n",
    "\n",
    "Note that the coefficient of the $\\lambda_1^2$ term is positive[$^1$](#four_footnotes). To find the lowest variance portfolio possible, set $\\lambda_1=0$ to get\n",
    "$$w_{minv}=\\frac{C^{-1}u}{u^{\\intercal}C^{-1}u}\\text{   and   }w_{minv}^{\\intercal}Cw_{minv}=\\frac{1}{u^{\\intercal}C^{-1}u}\\label{eq:equal_frontier_minv}\\tag{4.17}$$\n",
    "\n",
    "\\eqref{eq:equal_frontier_two_fund} is sometimes called the **`Two-Fund Separation Theorem`** because of its linear form; efficient portfolios satisfying \\eqref{eq:equal_frontier_two_fund} lie along a line in n-space. Let $w_1$ be the value of \\eqref{eq:equal_frontier_two_fund} when $\\lambda_1=1$; then any $w$ on the \\eqref{eq:equal_frontier_two_fund} efficient frontier can be expressed as $w=\\lambda w_1+(1-\\lambda)w_{minv}$ for some $\\lambda>0$. Thus in the simplified world of \\eqref{eq:equal_frontier_two_fund}, investors don't have to choose between $n$ investments; every investor merely needs to buy some $w_{minv}$ and some $w_1$, with only the proportion changing from investor to investor.\n",
    "\n",
    "<a><a name=\"frontier_leverage\"></a>\n",
    "If we don't care about variance and just want the highest mean portfolio possible, there is no bound. That is because so far we have not prevented leverage, which is measured by the sum of the positive entries in $\\boldsymbol{w}$.\n",
    "Thus if there are two assets with slightly different expected values, we could weight the higher one with a huge weight approaching infinity, and the lower one with one minus that weight. This two-asset portfolio has an expected return approaching infinity as the weight of the higher returning asset approaches infinity and the weight of the lower returning asset approaches minus infinity.\n",
    "\n",
    "The hedge fund Long Term Capital Management reportedly used [leverage of around 25](http://clsbluesky.law.columbia.edu/2018/09/10/a-retrospective-on-the-demise-of-long-term-capital-management/), attempting to get near-infinite returns or at least near-infinite paychecks for its principals. Since $\\boldsymbol{w^{\\intercal}u}=1$, leverage of 25 means that for every dollar invested in LTCM, the firm borrowed another \\\\$24 through short sales, and put \\\\$25 at risk. It would only take a drop of 4% in the value of its positive holdings (while the negative holdings didn't move) to bankrupt LTCM. LTCM no longer exists and its crash in 1998 nearly destroyed the entire financial system. As a practical matter limits &mdash; on holdings, on leverage &mdash; are imposed.\n",
    "\n",
    "Reversing \\eqref{eq:equal_frontier_lambda_one} to solve for $\\mu$ in terms of $\\lambda_1$, we obtain\n",
    "$$\\mu=m^{\\intercal}w=\\lambda_1\\bigl(\\frac{(u^{\\intercal}C^{-1}u)(m^{\\intercal}C^{-1}m)-(u^{\\intercal}C^{-1}m)^2}{u^{\\intercal}C^{-1}u}\\bigr)+\\frac{u^{\\intercal}C^{-1}m}{u^{\\intercal}C^{-1}u}\\label{eq:equal_frontier_mu}\\tag{4.18}$$\n",
    "Taking the square root of \\eqref{eq:equal_frontier_variance} gives the associated standard deviation as a function of $\\lambda_1$:\n",
    "$$\\sqrt{w^{\\intercal}Cw}=\\sqrt{\\lambda_1^2\\bigl(\\frac{(u^{\\intercal}C^{-1}u)(m^{\\intercal}C^{-1}m)-(u^{\\intercal}C^{-1}m)^2}{u^{\\intercal}C^{-1}u}\\bigr)+\\frac{1}{u^{\\intercal}C^{-1}u}}\\label{eq:equal_frontier_sigma}\\tag{4.19}$$\n",
    "\\eqref{eq:equal_frontier_mu} and \\eqref{eq:equal_frontier_sigma} allow us to draw an efficient frontier on a graph like Figure 4.1, where the x coordinate is given by \\eqref{eq:equal_frontier_sigma} and the y coordinate is given by \\eqref{eq:equal_frontier_mu} as $\\lambda_1$ varies from 0 to infinity."
   ]
  },
  {
   "cell_type": "markdown",
   "metadata": {},
   "source": [
    "### 4.1.2 Equality-Constrained Frontier: Example\n",
    "\n",
    "We'll work an example using a portfolio of $n=3$ assets: Swiss francs (CHF), pounds sterling (&pound; or GBP), and Japanese Yen (&yen; or JPY). The portfolio is denominated in US dollars.\n",
    "\n",
    "The code in the next cell retrieves the dollar per currency for these three currencies, and reports some general statistics:"
   ]
  },
  {
   "cell_type": "code",
   "execution_count": 2,
   "metadata": {},
   "outputs": [
    {
     "name": "stdout",
     "output_type": "stream",
     "text": [
      "From 1971-01-05 to 2021-12-30 ( 12784 observations):\n",
      "\n",
      "Means: [ 1.1994 -0.4635  0.8866] bps/day\n",
      "(CHF, GBP, JPY)\n",
      "\n",
      "   [0.4984 0.2403 0.2132]\n",
      "C= [0.2403 0.3542 0.1132]     (4.20)\n",
      "   [0.2132 0.1132 0.4009]\n",
      "(%/day)² units\n"
     ]
    }
   ],
   "source": [
    "import pandas as pd\n",
    "import qrpm_funcs as qf\n",
    "#Get 3 currencies until the end of\n",
    "#previous year. Form sample covariance matrix\n",
    "#and do simple efficient frontier calculations\n",
    "\n",
    "lastday=qf.LastYearEnd()\n",
    "#Swiss franc, pound sterling, Japanese Yen\n",
    "seriesnames=['DEXSZUS','DEXUSUK','DEXJPUS']\n",
    "cdates,ratematrix=qf.GetFREDMatrix(seriesnames,enddate=lastday)\n",
    "multipliers=[-1,1,-1]\n",
    "\n",
    "lgdates,difflgs=qf.levels_to_log_returns(cdates,ratematrix,multipliers)\n",
    "\n",
    "#Mean vector and covariance matrix are inputs to efficient frontier calculations\n",
    "d=np.array(difflgs)\n",
    "m=np.mean(d,axis=0)\n",
    "c=np.cov(d.T)\n",
    "\n",
    "#display the output\n",
    "#vectors and matrices are in fractional units;\n",
    "#    fraction*100=percent\n",
    "#    fraction*10000=basis point\n",
    "#    (fraction^2)*10000=percent^2\n",
    "np.set_printoptions(precision=4)\n",
    "print(\"From\",lgdates[0],\"to\",lgdates[-1],\"(\",len(lgdates),\"observations):\")\n",
    "print(\"\\nMeans:\",m*10000,\"bps/day\")\n",
    "print(\"(CHF, GBP, JPY)\\n\")\n",
    "print(\"  \",c[0]*10000)\n",
    "print(\"C=\",c[1]*10000,\"    (4.20)\")\n",
    "print(\"  \",c[2]*10000)\n",
    "print(f'(%/day)\\N{SUPERSCRIPT TWO} units')"
   ]
  },
  {
   "cell_type": "markdown",
   "metadata": {},
   "source": [
    "The Swiss franc and the Japanese yen have appreciated versus the dollar since 1971, giving positive daily mean returns. The pound sterling has depreciated.\n",
    "\n",
    "We're going to use the means shown above as the $\\boldsymbol{m}$ vector in our calculations. This is a classic, and fatal, error:\n",
    "><span style=\"color:red\">**we are estimating future characteristics by naively using past characteristics.**</span>\n",
    "\n",
    "We want to form a portfolio today that will carry us into the future. So we want to know the **`expected values`**, not the past sample values, of the mean vector and covariance matrix. Past sample values might be good estimators of expected values if the processes in question were **`stationary`**; that is, if they had unchanging parameters (see Section 9.4 below). But the evidence is overwhelming that financial processes are not stationary over time.\n",
    "\n",
    "Predicting the future from the past without understanding the generating process is doomed to failure. The comic Stephen Wright said \"I intend to live forever. So far, so good.\" His projection is so hilarious because it's so myopic: his mortality model doesn't take into account data about humans other than himself.\n",
    "\n",
    "In fact, using past performance to predict the future is legally discouraged in the US and other jurisdictions. In the US, [the Code of Federal Regulations (17 CFR 230.156)](https://www.gpo.gov/fdsys/pkg/CFR-2003-title17-vol2/pdf/CFR-2003-title17-vol2-sec230-156.pdf) says\n",
    "\n",
    ">Representations about past or future investment performance could be misleading because of statements ... including:\n",
    "<br>- (A) Representations, as to security of capital, possible future gains or income, or expenses associated with an investment;\n",
    "<br>- (B) Representations implying that future gain or income may be inferred from or predicted based on past investment performance; or\n",
    "<br>- (C) Portrayals of past performance, made in a manner which would imply that gains or income realized in the past would be repeated in the future. \n",
    "\n",
    "To this point in human experience, the past has been the only time period on offer for learning purposes: our lives would be very different if we could learn from the future. But often (as with Stephen Wright's hope for immortality), it's better to bring in some kind of model (senescence affects all humans; functionality decreases with age; a Gompertz-Makeham law of mortality applies) to try to predict the future. The quantitative analyst really wants the most accurate estimates of future means and covariances; past means and covariances can be as misleading as Stephen Wright's personal lack of mortality so far.\n",
    "\n",
    "We're using past sample statistics in this example just because it's a convenient way to generate numbers of the right order of magnitude to illustrate the calculations. We'll say more about better estimation methods later in the chapter.\n",
    "\n",
    "For now, the next code segment computes the inverse of $C$ in (days/pct)$^2$ units:"
   ]
  },
  {
   "cell_type": "code",
   "execution_count": 3,
   "metadata": {},
   "outputs": [
    {
     "name": "stdout",
     "output_type": "stream",
     "text": [
      "           [ 3.5165 -1.965  -1.3152]\n",
      "C-inverse= [-1.965   4.201  -0.1411]     (4.21)\n",
      "           [-1.3152 -0.1411  3.2336]\n",
      "(days/%)² units\n"
     ]
    }
   ],
   "source": [
    "#invert the c matrix, which is in (fraction/day)^2 units\n",
    "#so ci (c-inverse) is in (days/fraction)^2 units\n",
    "ci=np.linalg.inv(c)\n",
    "print(\"          \",ci[0]/10000)\n",
    "print(f'C-inverse=',ci[1]/10000,\"    (4.21)\")\n",
    "print(\"          \",ci[2]/10000)\n",
    "print(f'(days/%)\\N{SUPERSCRIPT TWO} units')"
   ]
  },
  {
   "cell_type": "markdown",
   "metadata": {},
   "source": [
    "From this we can compute the key quantities $u^{\\intercal}C^{-1}u$, $u^{\\intercal}C^{-1}m$, and $m^{\\intercal}C^{-1}m$:\n"
   ]
  },
  {
   "cell_type": "code",
   "execution_count": 4,
   "metadata": {},
   "outputs": [
    {
     "name": "stdout",
     "output_type": "stream",
     "text": [
      "u'(C-inverse)u = 4.108410547790689 (days/%)²\n",
      "u'(C-inverse)m = 0.8881677324581263 days\n",
      "m'(C-inverse)m = 8.006301710547898 bps\n"
     ]
    }
   ],
   "source": [
    "#sum entries in ci\n",
    "uciu=np.sum(ci)\n",
    "print(f'u\\'(C-inverse)u =',uciu/10000,f'(days/%)\\N{SUPERSCRIPT TWO}')\n",
    "ucim=np.sum(ci @ m)\n",
    "print(f'u\\'(C-inverse)m =',ucim,'days')\n",
    "mcim = m @ (ci @ m)\n",
    "print(f'm\\'(C-inverse)m =',mcim*10000,'bps')"
   ]
  },
  {
   "cell_type": "markdown",
   "metadata": {},
   "source": [
    "Filling in these data in equations \\eqref{eq:equal_frontier_two_fund}, \\eqref{eq:equal_frontier_mu}, and \\eqref{eq:equal_frontier_sigma} gives the numbers for our 3-currency example portfolio. Here $\\sigma=\\sqrt{w^{\\intercal}Cw}$ is the standard deviation of the efficient portfolio $\\boldsymbol{w}$:"
   ]
  },
  {
   "cell_type": "code",
   "execution_count": 5,
   "metadata": {},
   "outputs": [
    {
     "name": "stdout",
     "output_type": "stream",
     "text": [
      "w'=lambda [ 3.9114 -4.8819  0.9705] + [0.0575 0.5099 0.4326]     (4.15)#\n",
      "mu=(lambda * 7.814295115344305 )+ 0.21618280892977973  bps/day    (4.18)#\n",
      "sigma=sqrt(lambda² * 7.814295115344305 + 0.2434031332476627 ) (%/day)   (4.19)#\n"
     ]
    }
   ],
   "source": [
    "#Vectors for equation 4.15\n",
    "u=[1]*3\n",
    "vec2=(ci @ u)/uciu\n",
    "vec1=np.subtract(ci @ m,vec2*ucim)\n",
    "print(f\"w'=lambda\",vec1,\"+\",vec2,\"    (4.15)#\")\n",
    "\n",
    "lambdacoeff=(uciu*mcim-ucim*ucim)/uciu\n",
    "constmu=ucim/uciu\n",
    "print(f'mu=(lambda *',lambdacoeff*10000,\")+\",constmu*10000,\" bps/day    (4.18)#\")\n",
    "\n",
    "print(f'sigma=sqrt(lambda\\N{SUPERSCRIPT TWO} *',lambdacoeff*10000,'+', \\\n",
    "      10000/uciu,') (%/day)   (4.19)#')"
   ]
  },
  {
   "cell_type": "markdown",
   "metadata": {},
   "source": [
    "Note the vector coefficient of $\\lambda_1$ in \\eqref{eq:equal_frontier_two_fund}# has total weight zero (w/roundoff), and the constant vector in \\eqref{eq:equal_frontier_two_fund}# has total weight one; it is the global minimum variance solution.\n",
    "\n",
    "In that solution, pounds sterling (the middle coefficient) have the highest weight. From (4.20) we can see that pounds had the lowest variance, but that alone does not explain why they have the highest weight. There are also second-order effects from correlations with the other currencies. The minimum variance portfolio has a variance that is even lower than the pound's variance.\n",
    "\n",
    "This shows that _diversification_ is a key aspect of portfolio construction &mdash; if everything were linear as it is with returns we would have only pounds in the minimum variance solution. We don't because of the quadratic balancing act. Figure 4.2 is the classic efficient frontier graph:"
   ]
  },
  {
   "cell_type": "code",
   "execution_count": 6,
   "metadata": {},
   "outputs": [
    {
     "data": {
      "image/png": "[encoded data removed]",
      "text/plain": [
       "<Figure size 432x288 with 1 Axes>"
      ]
     },
     "metadata": {
      "needs_background": "light"
     },
     "output_type": "display_data"
    }
   ],
   "source": [
    "#Draw graph of simple efficient frontier\n",
    "lambda1s=np.arange(0,1.01,.01)\n",
    "xrisk=100*np.sqrt(lambdacoeff*lambda1s**2+1/uciu)   #Multiply * 100 for percent/day units\n",
    "yreturn=10000*(lambdacoeff*lambda1s+constmu)        #Multiply * 10000 for bp units\n",
    "\n",
    "plt.figure(1)\n",
    "plt.plot(xrisk,yreturn,marker='2')\n",
    "plt.title(\"Figure 4.2: Franc, Pound, Yen Efficient Frontier\")\n",
    "plt.xlabel(\"Standard Deviation (pct/day)\")\n",
    "plt.ylabel(\"Return (bps/day)\")\n",
    "plt.xlim(0,max(xrisk)+.5)\n",
    "plt.grid()\n",
    "plt.show();"
   ]
  },
  {
   "cell_type": "markdown",
   "metadata": {},
   "source": [
    "The global minimum variance portfolio in this example has positive weights as shown in \\eqref{eq:equal_frontier_two_fund}#. From the negative middle entry in the vector multiplying $\\lambda_1$ in \\eqref{eq:equal_frontier_two_fund}#, it follows that the weight of the pound will go negative as $\\lambda_1$ gets larger:"
   ]
  },
  {
   "cell_type": "code",
   "execution_count": 7,
   "metadata": {},
   "outputs": [
    {
     "name": "stdout",
     "output_type": "stream",
     "text": [
      "Pound weight goes negative at lambda= 0.1044455026542342\n",
      "At that point mu= 1.0323507901404427  bps/day\n",
      "and sigma= 57.327847360205496  bps/day\n"
     ]
    }
   ],
   "source": [
    "print(f'Pound weight goes negative at lambda=',-vec2[1]/vec1[1])\n",
    "print('At that point mu=',-10000*lambdacoeff*vec2[1]/vec1[1]+10000*constmu,' bps/day')\n",
    "print('and sigma=',10000*np.sqrt(lambdacoeff*(vec2[1]/vec1[1])**2+1/uciu),' bps/day')"
   ]
  },
  {
   "cell_type": "raw",
   "metadata": {},
   "source": [
    "## 4.1.3 Inequality Constraints\n",
    "\n",
    "Then as $\\lambda_1\\rightarrow\\infty$, efficient portfolios borrow more and more pounds to fund investments in francs and yen, heading off to an infinite expected return. Figure 4.2 stops at $\\lambda_1=1$, but it could keep going.\n",
    "\n",
    "Letting $\\lambda_1$ get arbitrarily large isn't a sensible thing to do. If an investor starts with a dollar, borrows a billion dollars worth of pounds and buys a billion and one dollars of francs&yen, then the slightest disturbance in the relationships between francs, yen and pounds will lead to bankruptcy. Estimated means and covariances can't be treated as certainties, where infinite reliance can be placed on their accuracy.\n",
    "\n",
    "Even if they were certain, there would be an absorbing barrier problem in the interim. That is, a portfolio can't have a net worth below zero: that's the definition of bankruptcy. **`Positive assets`** like portfolios, companies, stocks, and bonds will stop operating with a value of zero and will not be allowed to take on negative value. It's possible to draw a line on a graph that starts at $\\$1$, meanders down to $-\\$0.10$, and ends up at (positive) $\\$3$. But that line does not represent a real portfolio. That's similar to an absorbing barrier in physics, where a particle can meander only up to the point where it hits the sides of a container.\n",
    "\n",
    "One way to avoid unrealistic negative portfolio values is to constrain all the weights in portfolios on the mean-variance efficient frontier to be non-negative. This changes the problem from one that can be solved in closed form to one that can be solved using a quadratic programming algorithm:\n",
    "$$\\text{Minimize } -\\lambda m^{\\intercal}w + \\frac{1}{2}w^{\\intercal}Cw$$\n",
    "$$\\text{Subject to } w^{\\intercal}u=1 \\text{, each element of } w\\geq0\\label{eq:inequality_frontier}\\tag{4.22}$$\n",
    "In addition to the non-negative constraint, we have restated the problem slightly by building in a parameter $\\lambda$ instead of a target mean $\\mu$. This is the same idea as flipping \\eqref{eq:equal_frontier_lambda_one} to \\eqref{eq:equal_frontier_mu}. When $\\lambda=0$, we solve for the global minimum variance portfolio. As $\\lambda$ increases, we care more and more about return maximization and less and less about variance minimization. Thus $\\lambda$ is a risk tolerance parameter &mdash; something like the [coefficient of absolute risk tolerance](#coeff_abs_risk_tolerance).\n",
    "\n",
    "\\eqref{eq:inequality_frontier} has a quadratic objective function and linear constraints. It's a special case of a more general group of optimizations with convex objective functions and convex constraints. In the next chapter, we'll delve into convex optimization techniques that can be used for efficient solutions of the great matjority of problems likely to arise in portfolio construction.\n",
    "\n",
    "The solution to the long-only optimization \\eqref{eq:inequality_frontier} is a piecewise series of solutions to the equality-constrained frontier \\eqref{eq:equal_frontier_mu} and \\eqref{eq:equal_frontier_sigma}. In the Franc/Pound/Yen frontier, for example, the equality-constrained minimum variance portfolio has all positive weights so it is also a solution to \\eqref{eq:inequality_frontier}. The frontiers continue to coincide until the weight on the pound sterling goes to zero. Then the solution to \\eqref{eq:inequality_frontier} is the efficient frontier consisting only of the Swiss franc and the Japanese yen, shown in orange in Figure 4.3 below. Eventually the Swiss franc (the highest-returning single asset) becomes the whole portfolio and the \\eqref{eq:inequality_frontier} long-only frontier stops."
   ]
  },
  {
   "cell_type": "code",
   "execution_count": 8,
   "metadata": {},
   "outputs": [
    {
     "data": {
      "image/png": "[encoded data removed]",
      "text/plain": [
       "<Figure size 432x288 with 1 Axes>"
      ]
     },
     "metadata": {
      "needs_background": "light"
     },
     "output_type": "display_data"
    }
   ],
   "source": [
    "#Draw graph of long-only efficient frontier\n",
    "#Segment with pounds\n",
    "lambda_nopound=-vec2[1]/vec1[1]\n",
    "lambda1s=np.arange(0,lambda_nopound,.01)\n",
    "lambda1s=np.append(lambda1s,lambda_nopound)\n",
    "x1=100*np.sqrt(lambdacoeff*lambda1s**2+1/uciu)   #Multiply by 100 for percent/day units\n",
    "y1=10000*(lambdacoeff*lambda1s+constmu)        #Multiply by 10000 for bp units\n",
    "\n",
    "#Get franc/yen portfolio at the point where pounds disappear\n",
    "vec3=lambda_nopound*vec1+vec2\n",
    "#rest of frontier decreases yen and increases francs\n",
    "deltas=np.arange(0,vec3[2]*1.01,vec3[2]/100.)\n",
    "x2=[100*np.sqrt(((vec3+[delta,0,-delta]) @ c) @ (vec3+[delta,0,-delta])) \\\n",
    "    for delta in deltas]\n",
    "y2=[10000*((vec3+[delta,0,-delta]) @ m) for delta in deltas]\n",
    "\n",
    "plt.figure(1)\n",
    "plt.plot(x1,y1,marker='2')\n",
    "plt.plot(x2,y2,marker='1')\n",
    "plt.title(\"Figure 4.3: Long-only Efficient Frontier (4.22)\")\n",
    "plt.xlabel(\"Standard Deviation (pct/day)\")\n",
    "plt.ylabel(\"Return (bps/day)\")\n",
    "plt.xlim(0,max(x2)+.5)\n",
    "plt.grid()\n",
    "plt.show();"
   ]
  },
  {
   "cell_type": "markdown",
   "metadata": {},
   "source": [
    "### 4.1.4 Efficient Frontier and Utility Functions\n",
    "\n",
    "The connection between portfolios that maximize utility functions and portfolios on the Markowitz efficient frontier is close but not perfect. For example, [L. B. Pulley, \"Mean-Variance Approximations to Expected Logarithmic Utility\"](https://www.jstor.org/stable/170783) concludes\n",
    ">...investors maximizing expected logarithmic utility would hold virtually the same portfolios as investors maximizing certain mean-variance functions.\n",
    "\n",
    "Similarly in a 1984 paper, [Kroll, Levy and Markowitz](https://doi.org/10.2307/2327667) concluded\n",
    ">for various utility functions and the historical returns on 3 different sets of securities, when a portfolio may be chosen from any of the infinite number of portfolios of the standard constraint set, the best mean-variance efficient portfolio has almost maximum obtainable expected utility.\n",
    "\n",
    "One way of making the connection between utility functions and the Markowitz efficient frontier objective function is to consider a quadratic one-period risk-averse utility function on returns, i.e. one that looks like $u(z)=-z^2+az$, $a>0$. The coefficient of absolute risk aversion is $2/(a-2z)$ so this is risk-averse when $z<a/2$. That is, $u(z)$ \"likes\" more return for a while, but if the shock is too big (negative or positive), it gets unhappy.\n",
    "\n",
    "The investor wants to maximize the expected utility of returns:\n",
    "$$\\mathbb{E}[u(r^{\\intercal}w)]=\\mathbb{E}[-(r^{\\intercal}w)^2+a\\cdot r^{\\intercal}w]=-w^{\\intercal}\\mathbb{E}[rr^{\\intercal}]w+aw^{\\intercal}\\mathbb{E}[r]$$\n",
    "where $r$ is the random vector of one-period returns. We have already defined the mean vector $m=\\mathbb{E}[r]$ and the covariance matrix $C=\\mathbb{E}[(r-m)(r-m)^{\\intercal}]$. Thus\n",
    "$$C=\\mathbb{E}[rr^{\\intercal}-2rm^{\\intercal}+mm^{\\intercal}]=E[rr^{\\intercal}]-mm^{\\intercal}$$\n",
    "\n",
    "So we have\n",
    "$$\\mathbb{E}[u(r^{\\intercal}w)]=-w^{\\intercal}Cw-(w^{\\intercal}m)^2+aw^{\\intercal}m$$\n",
    "\n",
    "This is similar to the Markowitz objective function \\eqref{eq:inequality_frontier} (with $a=2\\lambda$ and a change of sign) &mdash; although the covariance matrix is not de-meaned."
   ]
  },
  {
   "cell_type": "markdown",
   "metadata": {},
   "source": [
    "### 4.1.5 The Capital Market Line\n",
    "\n",
    "The _capital market line_ is derived from the efficient frontier by the addition of a risk-free asset, i.e. a US Treasury or other instrument paying the risk-free rate that we discussed in Chapter 3. We assume the risk-free asset is nonstochastic, so it has no variance and no correlation with anything, including itself.\n",
    "\n",
    "We can look for an efficient frontier in the usual way and just add the risk-free asset to our universe. However this will make our covariance matrix singular. The usual convention is to separate out the risk-free asset, which has a return $r_f$. For example, consider the franc, yen, pound efficient frontier. We zoom in to the beginning of the frontier and add a risk-free asset at (0,.1), i.e. $r_f=.1$bps/day."
   ]
  },
  {
   "cell_type": "code",
   "execution_count": 9,
   "metadata": {},
   "outputs": [
    {
     "data": {
      "image/png": "[encoded data removed]",
      "text/plain": [
       "<Figure size 432x288 with 1 Axes>"
      ]
     },
     "metadata": {
      "needs_background": "light"
     },
     "output_type": "display_data"
    }
   ],
   "source": [
    "#Add a risk-free asset at .1 bps/day\n",
    "rfrate=10**(-5)\n",
    "plt.figure(2)\n",
    "plt.plot(xrisk,yreturn,marker='2')\n",
    "plt.title(\"Figure 4.4: Beginning of Franc, Pound, Yen Efficient Frontier\")\n",
    "plt.xlabel(\"Standard Deviation (pct/day)\")\n",
    "plt.ylabel(\"Return (bps/day)\")\n",
    "plt.xlim(0,1)\n",
    "plt.ylim(-.1,3.5)\n",
    "plt.annotate('Riskfree asset (0,'+str(10000*rfrate)+')', xy=(0, 10000*rfrate),\n",
    "             xytext=(.2, 1),\n",
    "            arrowprops=dict(facecolor='black', shrink=0.05),\n",
    "            )\n",
    "plt.grid()\n",
    "plt.show();"
   ]
  },
  {
   "cell_type": "markdown",
   "metadata": {},
   "source": [
    "We can now be more efficient than the (old) efficient frontier. A straight line that runs between the risk-free asset at $(0,r_f)$ and some point $(x,y)$ that is on the efficient frontier where $y\\geq r_f$ will lie above the efficient frontier until $(x,y)$. That line just represents linear combinations of the efficient portfolio at $(x,y)$ and a portfolio consisting only of the risk-free asset.\n",
    "\n",
    "In fact if the tangency point is chosen to be where the line from $(0,r_f)$ to the efficient frontier just touches the top of the frontier, the line will always be above the frontier. That optimal line is the new (including risk-free) efficient frontier and is called the **`capital market line`**. The two-fund separation theorem in formula \\eqref{eq:equal_frontier_two_fund} now becomes even simpler: the new efficient portfolios are linear combinations of the risk-free asset and the tangency portfolio.\n",
    "\n",
    "To compute the capital market line, note that equations \\eqref{eq:equal_frontier_mu} and \\eqref{eq:equal_frontier_sigma} specify the old efficient frontier; \\eqref{eq:equal_frontier_mu} is the y coordinate and \\eqref{eq:equal_frontier_sigma} is the x coordinate. Taking the slope with the chain rule, we see that $\\frac{dy}{dx}=\\frac{x}{\\lambda_1}$. For tangency, this slope must equal $\\frac{y-r_f}{x}$, which is the slope of the line between $(x,y)$ and the risk-free asset's representation.\n",
    "\n",
    "Solving for $\\lambda_1$ gives $\\lambda_1=\\frac{1}{u^{\\intercal}C^{-1}m - r_f(u^{\\intercal}C^{-1}u)}$. Putting this $\\lambda_1$ into \\eqref{eq:equal_frontier_lagrange} gives the tangency portfolio $w_{tp}$:\n",
    "$$w_{tp}=\\frac{C^{-1}(m-r_f u)}{u^{\\intercal}C^{-1}m - r_f(u^{\\intercal}C^{-1}u)}=\\frac{C^{-1}m_e}{u^{\\intercal}C^{-1}m_e}\\label{eq:tangent_portfolio}\\tag{4.30}$$\n",
    "where $m_e$ is the excess (over riskfree) return vector $m_e=m-r_f u$.\n",
    "\n",
    "<a><a name=\"sharpe_ratio\"></a>\n",
    "A portfolio $w$'s [_Sharpe Ratio_](https://doi.org/10.3905%2Fjpm.1994.409501) is $\\frac{w^{\\intercal}m_e}{\\sqrt{w^{\\intercal}C_e w}}$, i.e. its excess expected mean return divided by its excess standard deviation[$^2$](#four_footnotes). Note that in the mean/standard deviation graphs we have been drawing, the slope of a line that goes through the point $(0,r_f)$ is the Sharpe ratio of portfolios on that line. Thus the maximum Sharpe ratio efficient portfolio is the tangency portfolio; to see this, visualize the set of lines from $(0,r_f)$ to points on the efficient frontier.\n",
    "\n",
    "The tangency (best efficient Sharpe ratio) portfolio has an excess expected return equal to\n",
    "$$w_{tp}^{\\intercal}m_e=\\frac{m_e^{\\intercal}C^{-1}m_e}{u^{\\intercal}C^{-1}m_e}\\label{eq:tangent_excess}\\tag{4.31}$$\n",
    "and a standard deviation\n",
    "$$\\sqrt{w_{tp}^{\\intercal}Cw_{tp}}=\\frac{\\sqrt{m_e^{\\intercal}C^{-1}m_e}}{u^{\\intercal}C^{-1}m_e}\\label{eq:tangent_stddev}\\tag{4.32}$$\n",
    "Thus the Sharpe ratio of the tangency portfolio is\n",
    "$$Sharpe(w_{tp})=\\sqrt{m_e^{\\intercal}C^{-1}m_e}\\label{eq:tangent_sharpe}\\tag{4.33}$$\n",
    "\n",
    "Adding a risk-free asset with $r_f=.1$bp/day to the currency example gives a tangency portfolio that looks like this:"
   ]
  },
  {
   "cell_type": "code",
   "execution_count": 10,
   "metadata": {},
   "outputs": [
    {
     "name": "stdout",
     "output_type": "stream",
     "text": [
      "Tangency portfolio: [ 8.2519 -9.7176  2.4658]\n",
      "TP mu= 16.58714106615597  bps/day\n",
      "TP sigma= 5.877123583217739  pct/day\n",
      "lambda at tangency: 2.095001278500456\n"
     ]
    }
   ],
   "source": [
    "#Print the tangency portfolio\n",
    "rfvec=[rfrate]*3\n",
    "tangencyport=(ci @ (m-rfvec))/(ucim-rfrate*uciu)\n",
    "print('Tangency portfolio:',tangencyport)\n",
    "#Solve for the lambda1 at tangency\n",
    "mutp=tangencyport @ (m.T)\n",
    "sigmatp=np.sqrt((tangencyport @ c) @ (tangencyport.T))\n",
    "tpl1=(mutp-constmu)/lambdacoeff\n",
    "print('TP mu=',mutp*10000,' bps/day')\n",
    "print('TP sigma=',sigmatp*100,' pct/day')\n",
    "print(f\"lambda at tangency:\",tpl1)"
   ]
  },
  {
   "cell_type": "markdown",
   "metadata": {},
   "source": [
    "Drawing the line between the riskfree rate on the y axis and the tangency portfolio gives the orange capital market line in Figure 4.5:"
   ]
  },
  {
   "cell_type": "code",
   "execution_count": 11,
   "metadata": {},
   "outputs": [
    {
     "data": {
      "image/png": "[encoded data removed]",
      "text/plain": [
       "<Figure size 432x288 with 1 Axes>"
      ]
     },
     "metadata": {
      "needs_background": "light"
     },
     "output_type": "display_data"
    }
   ],
   "source": [
    "#Show capital market line\n",
    "#Extend frontier\n",
    "lambda1s=np.arange(0,tpl1+.5,.01)\n",
    "xrisk=100*np.sqrt(lambdacoeff*lambda1s**2+1/uciu)\n",
    "yreturn=10000*(lambdacoeff*lambda1s+constmu)\n",
    "\n",
    "#Compute line\n",
    "x=np.arange(0,max(xrisk),.01)\n",
    "y=100*((mutp-rfrate)/sigmatp)*x+10000*rfrate\n",
    "\n",
    "plt.figure(3)\n",
    "plt.plot(xrisk,yreturn)\n",
    "plt.plot(x,y)\n",
    "plt.annotate('Tangency portfolio', xy=(sigmatp*100, mutp*10000),\n",
    "             xytext=(1,mutp*10000),\n",
    "            arrowprops=dict(facecolor='black', shrink=0.05),\n",
    "            )\n",
    "plt.title(\"Figure 4.5: Capital Market Line + Franc, Pound, Yen Efficient Frontier\")\n",
    "plt.xlabel(\"Standard Deviation (pct/day)\")\n",
    "plt.ylabel(\"Return (bps/day)\")\n",
    "plt.xlim(0,max(xrisk)+.5)\n",
    "plt.grid()\n",
    "plt.show;"
   ]
  },
  {
   "cell_type": "markdown",
   "metadata": {},
   "source": [
    "The efficient frontier in Figure 4.5 is near-linear by the time the capital market line touches it, so there is little difference between the capital market line and the original efficient frontier in this example. When the efficient frontier has more nonlinear shape &mdash; for example as a result of multiple constraints &mdash; there can be more separation between the capital market line and the efficient frontier"
   ]
  },
  {
   "cell_type": "markdown",
   "metadata": {},
   "source": [
    "### 4.1.6 Benchmark-Relative\n",
    "\n",
    "As a practical matter, many investment vehicles are constrained to invest in certain segments of the capital markets. For example, a mutual fund may advertise that it is a \"large-cap US equity fund.\" Investors who favor big US companies can give a sum of money to the mutual fund manager, and the manager will decide which big US companies to buy with that money. The manager would be amiss &mdash; and legally culpable &mdash; if it didn't mostly[$^3$](#four_footnotes) invest its investors' money in big US companies; to do otherwise would be false advertising. By the same token, investors can hardly blame the manager if big US stocks generally do poorly; they knew what they were getting into.\n",
    "\n",
    "This situation is usually handled with a _benchmark portfolio_. Benchmark portfolios are often constructed by institutions that publish transparent benchmark composition rules intended to select certain market segments mechanically. For example, the FTSE/Russell company publishes the [Russell 1000&reg;](https://www.ftse.com/products/indices/russell-us) index of the one thousand largest stocks in Russell's universe; this is widely used as a large-cap US equity benchmark.\n",
    "\n",
    "Most benchmark indices are **`capitalization-weighted`**; that is, the holding weights are proportional to the total market values (market price per share time shares outstanding) of the companies in the index. Sometimes caps are put on percentage holdings to attenuate the influence of one dominant player in a market. **`Float-weighting`** is sometimes used when portions of a company are unavailable to the public, for example due to founding family holdings: the \"float\" is the portion of the company that trades freely.\n",
    "\n",
    "**`Equal-weighting`** (or the [1/N rule](#one_over_n)) weighs each of the $N$ securities in an index the same. One argument for this approach notes that if $P_M$ is the market price of a security and $P_T$ is its theoretically correct price if all future information about the company and the economy were known today, then: (a) if $P_M>P_T$, the company is overweighted in capitalization-weighted indices; while (b) if $P_M<P_T$, then the company is underweighted in capitalization-weighted indices. Thus capitalization-weighted indices overweight overpriced securities and underweight underpriced securities. On the other hand equal-weighting is random compared to a company's future prospects and so tends to get about half the weights right and half wrong; $50\\%$ right is better than $0\\%$ right. On the other hand, equal-weighted indices can be impractical if the smaller companies in the index are illiquid.\n",
    "\n",
    "However a benchmark is constructed, risk is then redefined to be relative to the benchmark $b$. In our example $b=$[Russell 1000&reg;](https://www.ftse.com/products/indices/russell-us), which itself would be considered to have no risk, while cash would have quite a lot of risk. Rather than $\\sqrt{w^{\\intercal}Cw}$, the relevant volatility would be $\\sqrt{(w-b)^{\\intercal}C(w-b)}$; this benchmark-relative volatility is called _tracking error_. The objective function in an optimization like \\eqref{eq:inequality_frontier} would change to $-\\lambda m^{\\intercal}(w-b) + \\frac{1}{2}(w-b)^{\\intercal}C(w-b)$.\n",
    "\n",
    "<a><a name=\"information_ratio\"></a>\n",
    "The equivalent of a [Sharpe Ratio](#sharpe_ratio) in a benchmark-relative context is an _information ratio_; it is defined as $\\frac{(w-b)^{\\intercal}m}{\\sqrt{(w-b)^{\\intercal}C(w-b)}}$. The information ratio equals the Sharpe Ratio when the benchmark is the riskfree asset[$^2$](#four_footnotes)."
   ]
  },
  {
   "cell_type": "markdown",
   "metadata": {},
   "source": [
    "### 4.1.7 Efficient Frontiers: Theory and Practice\n",
    "\n",
    "While Markowitz started the field of quantitative finance and his work was revolutionary, investors quickly found that it often didn't work as well as the qualitative methods they were using before 1952. One problem is that the quadratic optimization process doesn't know that the numbers (means, covariances) it is given can be wrong. While a human would be skeptical about large, too-good-to-be-true returns, the optimization process is likely to put a heavy weight on a security with a too-good-to-be-true return.\n",
    "\n",
    "Even realistic returns can lead to unrealistic results. A human would think that the difference between two securities, both with very similar covariances to the rest of the universe, and one with a mean of 1.12345 and the other 1.12346, was random. It wouldn't make much difference if you were buying one or the other. But as we noted when discussing [frontier leverage](#frontier_leverage), if you're buying one and selling the other, then any small difference between securities can be exploited with enough leverage. An unconstrained optimizer would go massively long the higher return one and massively short the lower, thereby multiplying random estimation errors.\n",
    "\n",
    "In fact most of our currency example efficient frontier was highly leveraged and would be unattainable with the long only constraint; most of the \"results\" could be suspect. Thus, as we've already noted, in many cases holdings are constrained to be long only; this stops solutions from having any leverage. \n",
    "\n",
    "Despite the problems with naively using past statistics to predict the future, past (sample) covariance matrices are often used to estimate expected covariances. In fact a great deal of effort has been spent on understanding how covariances change over time; we'll discuss these efforts in Chapters 9 and 10 below. But covariances are less variable than sample mean returns. So there are a number of estimation methods that start with sample covariance matrices and then try to modify them so they are better predictors.\n",
    "\n",
    "Sample covariance matrices are, by construction, at least positive semidefinite and possibly positive definite. We need $n$ time periods of observation to make an $n\\times n$ covariance matrix nonsingular, but even if we have that many periods we still might not have a rich set of data for each entry. There are $n+1\\choose 2$ different numbers in a covariance matrix. In every time period we observe $n$ rates of return. So if we have $t$ periods of observations, the number of observables per covariance is $\\frac{2t}{n+1}$. For example, for the Russell 1000&reg; index, we would need 5005 time periods if we wanted to have a not very impressive ten observations per covariance.\n",
    "\n",
    "5005 observations is about twenty years at a daily periodicity, which limits the number of companies that can be considered, as many do not have public trading data for that long. Too, daily observations are only valid for the most heavily traded stocks; a lightly traded stock may not have any meaningful trading activity after (say) 2PM, while more heavily traded stocks continue trading (and reacting to news) until 4PM. The day's return on the lightly traded stock is then asynchronous with the day's returns on more heavily traded stocks. That in turn can lead to misleadingly low correlations. Longer periodicities, like monthly, are often used to address this problem. A few hours of missing price movements out of a month is less noticeable than a few hours missing from a day. But at a monthly periodicity, any sample covariance matrix of the Russell 1000&reg; will be singular. That in turn causes problems with solving optimizations like \\eqref{eq:equal_frontier}, which will no longer have a unique solution.\n",
    "\n",
    "Even when covariance matrices aren't singular, they can have problems. The _condition number_ of a matrix is the ratio of its largest eigenvalue to its smallest eigenvalue. The larger the condition number, the more likely it is that a very small change in input variables (means and covariances) can make a very large change in output variables (weights of the optimal solution). \n",
    "\n",
    "Because of the generally poor quality of covariance matrices, most users of optimizers put bounds on many quantities in addition to long-only (or not-too-short) constraints. Individual holdings usually have concentration limits &mdash; e.g. no single stock can occupy more than 5% of the portfolio. If the optimization is benchmark-relative, then constraints like \"every security must be within plus or minus 2% of the benchmark's weight in that security\" can be set. Constraints are often placed on other relevant characteristics like industries, countries, property types (in real estate portfolios), and duration/credit quality (in fixed income portfolios).\n",
    "\n",
    "Setting limits produces sensible portfolios, since the limits are set sensibly. But in effect it gives the answer to the optimizer &mdash; if the user is not careful, an optimizer can become a [smokescreen for the judgments of the human who put in very restrictive limits](https://www.jstor.org/stable/4479185)"
   ]
  },
  {
   "cell_type": "markdown",
   "metadata": {},
   "source": [
    "## 4.2 Review of Bayes's Rule\n",
    "\n",
    "We'll now turn our attention to some of the practical approaches to estimating the parameters $m$ and $C$ used in the construction of efficient portfolios. Many of them rely on Bayes's Rule, which we'll now briefly review.\n",
    "\n",
    "Bayes's Rule is simple to state:\n",
    "$$Pr(E\\mid F)=\\frac{Pr(F\\mid E)Pr(E)}{Pr(F)}$$\n",
    "It is essentially a restatement of the definition of [conditional probability](basic_probability_terminology) in \\eqref{eq:condprob}. Despite this uncomplicated derivation, Bayes's Rule is profound. We'll walk through an example to get an intuitive feel for Bayes's Rule.\n",
    "\n",
    "Suppose you are worried that you may have a rare disease that makes you forget your personal utility function. Fortunately there's a very accurate test for this condition. You go to the doctor and take the test, which comes back positive. You are now terrified that if you should run into some [Generous Billionaires](#generous_billionaires), you won't know what to do. You contemplate entering an intensive (and expensive) treatment program for the condition. Should you?\n",
    "\n",
    "We need to be more precise: by \"rare,\" we mean that only one in ten thousand people has the disease. And by \"very accurate,\" we mean that the test is right $99\\%$ of the time.\n",
    "\n",
    "The relevant outcome space $\\Omega$ in this case is the set of roughly $8$ billion people in the world. $\\Omega$ can be divided into four disjoint events:\n",
    "- People with positive test results who have the disease;\n",
    "- People with positive test results who don't have the disease;\n",
    "- People with negative test results who have the disease; and\n",
    "- People with negative test results who don't have the disease.\n",
    "\n",
    "From the $10^{-4}$ probability of having the disease, we know that $780,000$ people in the world have the disease. This allows us to start filling in a table:\n",
    "\n",
    "| Outcomes |  Have Disease |  Don't Have |  Total  |\n",
    "|----------|:-------------:|------------:|:-------:|\n",
    "| Test+    |               |             |         |\n",
    "| Test-    |               |             |         |\n",
    "| Total    |  800,000      | 7,999,200,000    |  8Bn    |\n",
    "\n",
    "Of the 780,000 who have the disease, $99\\%$ are properly diagnosed and $1\\%$ ($7,800$) are misdiagnosed as not having the disease. Similarly for the $7.799$Bn who don't have the disease. So we can completely fill in the table:\n",
    "\n",
    "| Outcomes |  Have Disease |  Don't Have   |     Total     |\n",
    "|----------|:-------------:|--------------:|:-------------:|\n",
    "| Test+    |  792,000      |  79,992,000   |   80,784,000  |\n",
    "| Test-    |    8,000      | 7,919,208,000 | 7,919,216,000 |\n",
    "| Total    |  800,000      | 7,999,200,000    |  8Bn    |\n",
    "\n",
    "With a positive test result, you are in the Test+ row. But the vast majority of people with a positive test score are test mistakes in the \"don't have\" column. In fact even with a positive test result, your chance of having the disease is only $1\\%$.\n",
    "\n",
    "If $n=|\\Omega|$ is the size of the outcome space, then we know\n",
    "- Event E (have disease) has size $10^{-4}n=780,000$.\n",
    "- Event W (wrong test result) has size $10^{-2}n=78,000,000$\n",
    "- Event F (positive test result) has size $(10^{-2}+10^{-4}-2\\cdot10^{-6})n=78,764,400$   \n",
    "Event F's size is not directly given but is computed from the first row of the 2x2 matrix.\n",
    "\n",
    "| Outcomes |  Have Disease | &nbsp; &nbsp; &nbsp; &nbsp; &nbsp; &nbsp; &nbsp; &nbsp; Don't Have &nbsp; &nbsp; &nbsp; &nbsp; &nbsp; &nbsp; &nbsp; &nbsp;                            | &nbsp; &nbsp; &nbsp; &nbsp; &nbsp; &nbsp; &nbsp; &nbsp;     Total     |\n",
    "|----------|:-------------:|------------------------------------:|:--------------------:|\n",
    "| Test+    |  $E\\cap F$    |  $(\\Omega\\setminus E)\\cap F$                     |   $F$  |\n",
    "| Test-    | $E\\cap (\\Omega\\setminus F)$      |                 $(\\Omega\\setminus E)\\cap (\\Omega\\setminus F)$     | $\\Omega\\setminus F$\n",
    "| Total    |  $E$      | $\\Omega\\setminus E$                     | $\\Omega$ |\n",
    "\n",
    "In terms of probabilities, $p_E=10^{-4}$ is the probability of having the disease, and $p_W=10^{-2}$ is the probability of a wrong test result. Then the table looks like:\n",
    "\n",
    "| Outcomes |  Have Disease | &nbsp; &nbsp; &nbsp; &nbsp; &nbsp; &nbsp; &nbsp; &nbsp; Don't Have &nbsp; &nbsp; &nbsp; &nbsp; &nbsp; &nbsp; &nbsp; &nbsp;                            | &nbsp; &nbsp; &nbsp; &nbsp; &nbsp; &nbsp; &nbsp; &nbsp; &nbsp; &nbsp; &nbsp; &nbsp; &nbsp; &nbsp; &nbsp; &nbsp; &nbsp; &nbsp; &nbsp; &nbsp; &nbsp; &nbsp; &nbsp; &nbsp;    Total     |\n",
    "|----------|:-------------:|------------------------------------:|:--------------------:|\n",
    "| Test+    |  $p_E(1-p_W)$    |  $(1-p_E)p_W$                     |   $p_F=p_E+p_W-2p_E p_W$  |\n",
    "| Test-    | $p_Ep_W$      |                 $(1-p_E)(1-p_W)$     | $1-p_E-p_W+2p_E p_W$\n",
    "| Total    |  $p_E$      | $1-p_E$                     | $1$ |\n",
    "\n",
    "In our example, we wanted to know the probability of having the utility-forgetting disease (event E) given that we had observed a positive test result (event F). Event E is called the _prior_ &mdash; what you believed to be true before new information came in. So you believed that the chance of having utility-forgetting disease was very small (.01%) before taking the test.\n",
    "\n",
    "Event F is the _update_: a positive test result. As we saw, from the fact that the test is wrong $p_W=.01$ of the time and the fact that $p_E=10^{-4}$, we could compute $p_F=p_E+p_W-2p_E p_W=.010098$. The conditional probability $Pr(F\\mid E)$=probability positive test result given you have the disease is $99\\%$ because the test is $99\\%$ accurate independently of whether or not you have the disease. Putting it together, we get $Pr(E\\mid F)$=probability of disease given positive test result$=.99*.0001/.010098=.009804$, or a little less than $1\\%$ as we saw.\n",
    "\n",
    "Bayes Theorem is due to Thomas Bayes, who lived from 1701-1761. It is far ahead of its time in its clever use of existing information (e.g. utility-forgetting-disease is rare); new information (test results); and probability theory. This is especially clever because probability theory, at least as we know it today, didn't exist in the early 1700s. Of course the general concept of odds, such as in the Bernoullis' discussion of St. Petersburg paradox, existed then. But the formal framework including sample spaces, $\\sigma$-algebras, and probability measures was a few hundred years in the future."
   ]
  },
  {
   "cell_type": "markdown",
   "metadata": {},
   "source": [
    "### 4.2.1 Shrinkage Estimators\n",
    "\n",
    "Practitioners often use methods intended to improve parameter estimates, sometimes in conjunction with proprietary views on the future direction of markets. Many such methods take the form of _shrinkage estimators_. The general idea is similar to Bayes's Rule: we have some kind of prior belief about a quantity we are trying to estimate, and we \"shrink\" the deviations from the prior in some way. Often the prior is _centralized_, meaning it is based on some kind of marketwide average value.\n",
    "\n",
    "An example of a centralized prior for an efficient portfolio is the vector $w=\\frac{1}{n}u$; which indicates that everything in the universe is of equal importance without knowing anything about means and covariances. [Bouchard, Potters & Aguilar](https://arxiv.org/abs/cond-mat/9707042)[$^4$](#four_footnotes) had this prior in mind when they suggested maximizing a nonparametric portfolio diversification measure like [Shannon entropy](https://doi.org/10.1002/j.1538-7305.1948.tb01338.x):[$^5$](#four_footnotes)\n",
    "$$\\exp\\bigl(-\\sum{\\mid w_i\\mid\\cdot ln(\\mid w_i\\mid)}\\bigr)$$\n",
    "or an inverse [Herfindahl-Hirschman](https://www.jstor.org/stable/1818582) index\n",
    "$$\\frac{1}{\\sum{w_i^2}}=\\frac{1}{w^{\\intercal}w}$$\n",
    "Here $w_i$ are the scalar components of the portfolio vector $w$, where as usual $w^{\\intercal}u=1$. For both metrics, the worst case is the intuitively most concentrated: one $w_i=1$ and the others equal to zero. Both measures equal one in that case. If $w\\geq 0$, then for both measures the best case (where the measures equal $n$) is $w_i=1/n$ (in vectors, $w=\\frac{1}{n}u$).\n",
    "\n",
    "The Bouchard, Potters & Aguilar suggestion was to add one of the diversification measures to the portfolio optimization problem, so for example the objective in \\eqref{eq:inequality_frontier} would be changed to\n",
    "$$\\text{Minimize } -\\lambda m^{\\intercal}w + \\frac{1}{2}w^{\\intercal}\\bigl(C+\\gamma I\\bigr)w\\label{eq:shrinkage_bouchard}\\tag{4.40}$$\n",
    "With a sufficiently large $\\gamma$ parameter, the optimization will focus more on minimizing the nonparametric Herfindahl-Hirschman Index, and less on the quantities $m$ and $C$ that need estimating. This can produce a solution that mitigates the problem of too-heavy reliance on random noise in inputs, pushing solutions toward $w=\\frac{1}{n}u$.\n",
    "\n",
    "<a name=\"one_over_n\"></a>The problem of parameter estimation is so large that some have suggested giving up on it altogether. [DeMiguel, Garlappi, and Uppal 2007](https://dx.doi.org/10.2139/ssrn.911512) considered the \"1/N rule,\" which in our notation means giving infinite weight to the $\\gamma$ parameter in \\eqref{eq:shrinkage_bouchard}, forcing $w=\\frac{1}{n}u$. DeMiguel et. al. evaluated out-of-sample performance of a number of variations on parameter estimation for Markowitz-type mean-variance optimization. They\n",
    ">find that none is consistently better than the 1/N rule in terms of Sharpe ratio, certainty-equivalent return, or turnover. This finding indicates that, out of sample, the gain from optimal diversification is more than offset by estimation error... This suggests that there are still many \"miles to go\" before the gains promised by optimal portfolio choice can actually be realized out of sample. \n",
    "\n",
    "The DeMiguel et. al. \"1/N rule\" is a Bayesian approach with infinite weight on the centralized prior. Other methods also have centralized priors but are less than 100% dubious about update information. For example, the [_James-Stein shrinkage estimator_](http://digitalassets.lib.berkeley.edu/math/ucb/text/math_s4_v1_article-19.pdf) for the vector of multivariate normal means can be applied to the prior belief that all means are equal to some common scalar value $\\mu_0$. The observed mean vector $m$ is then pushed some way back to this prior. A scalar $s$ is used to calibrate how far to push back:\n",
    "$$s=\\min\\bigl(1,\\frac{n-2}{T(m-\\mu_0u)^{\\intercal}C^{-1}(m-\\mu_0u)}\\bigr)\\label{eq:shrinkage_james_stein}\\tag{4.41}$$\n",
    "where $n$ is the number of variables in the vectors and $T$ is the number of observations (often time periods). The denominator in \\eqref{eq:shrinkage_james_stein} is a scaled squared **`Mahalanobis Distance`**.[$^6$](#four_footnotes)\n",
    "\n",
    "The revised mean vector estimate is then\n",
    "$$m_{new}=(1-s)m+s\\mu_0u\\label{eq:shrinkage_james_stein_mnew}\\tag{4.42}$$\n",
    "The default mean $\\mu_0$ can for example be the average of all the means in m ($\\mu_0=\\frac{m\\prime u}{n}$).\n",
    "\n",
    "This seems like a sensible, quasi-Bayesian, heuristic for not relying too much on possibly erroneous sample data. But James and Stein showed something remarkable about this estimator: if there is a true (but unknown) population mean vector $m_{true}$, then\n",
    "$$(m_{true}-m)^{\\intercal}C^{-1}(m_{true}-m)\\geq(m_{true}-m_{new})^{\\intercal}C^{-1}(m_{true}-m_{new})\\label{eq:shrinkage_james_stein_property}\\tag{4.43}$$\n",
    "That means that the new estimator is guaranteed to be closer (in Mahalanobis distance) to the unknown true mean vector than the original. That's _for any value of $\\mu_0$_! So you can just pick a $\\mu_0$ randomly and you'll get closer to the true mean vector than your sample mean vector $m$. Of course an outrageous $\\mu_0$ will cause the $s$ in \\eqref{eq:shrinkage_james_stein} to be very small, so there won't be much adjustment. But it will be in the right direction!\n",
    "\n",
    "A similar idea is seen in the [_Jorion shrinkage estimator_](https://dx.doi.org/10.2307/2331042), formed by taking\n",
    "$$s=\\frac{n+2}{n+2+T(m-\\mu_{min}u)^{\\intercal}C^{-1}(m-\\mu_{min}u)}\\text{, where }\\mu_{min}=m^{\\intercal}w_{minv}\\tag{4.44}$$\n",
    "and then applying the shrinkage combination in \\eqref{eq:shrinkage_james_stein_mnew} with $\\mu_0=\\mu_{min}$. Here $w_{minv}$ is the minimum variance portfolio shown in \\eqref{eq:equal_frontier_minv}.\n",
    "\n",
    "The next cell computes the James-Stein and Jorion estimates of the mean vector for our three-currency example. The last year of sample data is held out so we can later compare the estimates with the last year's out-of-sample mean vector."
   ]
  },
  {
   "cell_type": "code",
   "execution_count": 12,
   "metadata": {},
   "outputs": [
    {
     "name": "stdout",
     "output_type": "stream",
     "text": [
      "James-Stein shrinkage factor: 0.09072800398771942 ; common mean: 5.929673476567321e-05\n",
      "James-Stein estimate of mean as of 2020-12-31 : [ 1.1906e-04 -3.6734e-05  9.5560e-05]\n",
      "\n",
      "Jorion shrinkage factor: 0.3232968231767555 ; minimum variance mean: 2.622748946290537e-05\n",
      "Jorion estimate of mean as of 2020-12-31 : [ 9.3086e-05 -2.2863e-05  7.5594e-05]\n"
     ]
    }
   ],
   "source": [
    "#Compute James-Stein and Jorion estimates of mean based on previous year\n",
    "import scipy.spatial as spsp\n",
    "\n",
    "#Search for end of previous year\n",
    "for i in range(260,200,-1):\n",
    "    if lgdates[-i][:4]==lastday[:4]:\n",
    "        prev_year_n=len(lgdates)-i\n",
    "        prev_year_date=lgdates[-i-1]\n",
    "        break\n",
    "\n",
    "#Form mean vector and covariance matrix up to end of previous year\n",
    "prev_m=np.average(d[:prev_year_n],axis=0)\n",
    "prev_c=np.cov(d[:prev_year_n].T)\n",
    "prev_ci=np.linalg.inv(prev_c)\n",
    "prev_dim=len(prev_m)\n",
    "#Set the central prior\n",
    "central_m=[np.average(prev_m)]*prev_dim\n",
    "\n",
    "#James-Stein estimate of mean\n",
    "#Compute scale factor s\n",
    "s_js=min(1.,(prev_dim-2)/(prev_year_n*spsp.distance.mahalanobis(prev_m,central_m,prev_ci)**2))\n",
    "james_stein_m=np.multiply(1-s_js,prev_m)+np.multiply(s_js,central_m)\n",
    "print(\"James-Stein shrinkage factor:\",s_js,\"; common mean:\",np.average(prev_m))\n",
    "print(\"James-Stein estimate of mean as of \"+prev_year_date,\":\",james_stein_m)\n",
    "\n",
    "#Jorion estimate - get minimum variance portfolio's mean\n",
    "prev_min_var_mean=(prev_m @ (prev_ci @ ([1]*prev_dim)))/np.sum(prev_ci)\n",
    "central_m_jorion=[prev_min_var_mean]*prev_dim\n",
    "s_jorion=spsp.distance.mahalanobis(prev_m,central_m_jorion,prev_ci)**2\n",
    "s_jorion=min(1.,(prev_dim+2)/(prev_dim+2+prev_year_n*s_jorion))\n",
    "jorion_m=np.multiply(1-s_jorion,prev_m)+np.multiply(s_jorion,central_m_jorion)\n",
    "print(\"\\nJorion shrinkage factor:\",s_jorion,\"; minimum variance mean:\",prev_min_var_mean)\n",
    "print(\"Jorion estimate of mean as of \"+prev_year_date,\":\",jorion_m)"
   ]
  },
  {
   "cell_type": "markdown",
   "metadata": {},
   "source": [
    "Similarly, shrinkage estimators can be applied to the covariance matrix. In a 1978 paper, [Elton & Gruber](https://dx.doi.org/10.2307/2326368) pointed out that there appeared to be little information in covariance matrices off the diagonal. They reluctantly concluded that just setting all off-diagonal correlations to the average value gave better estimates of future correlation matrices:\n",
    ">In this section, we will assume that all pairwise correlation coefficients are equal. While this probably does not represent the true pattern one finds in the economy, it is very difficult to obtain a better estimate. Elsewhere we have shown that this assumption produces better estimates of future correlation coefficients than do historical correlation coefficients...\n",
    "\n",
    "Thus &mdash; just as in the $1/N$ rule or the James-Stein and Jorion shrinkage estimators &mdash; Elton & Gruber came to the idea of a centralized prior. Olivier Ledoit and Michael Wolf used this idea in a [2003 paper](http://dx.doi.org/10.2139/ssrn.433840). Let $R=S^{-1}CS^{-1}$, where $C$ is a sample covariance matrix and $S=\\sqrt{diag(C)}$ is the matrix with sample standard deviations on the diagonal and zeros elsewhere. $R$ is the sample correlation matrix. Let $\\rho_{average}=\\frac{u^{\\intercal}Ru-n}{n(n-1)}$ be the average off-diagonal correlation. Then the constant correlation covariance matrix is\n",
    "$$C_{\\rho}=S(I+\\rho_{average}(J-I))S\\tag{4.45}$$\n",
    "where as usual $J=uu^{\\intercal}$ is the matrix of all ones.\n",
    "\n",
    "The Ledoit-Wolf constant-correlation covariance shrinkage estimator is\n",
    "$$C_{cc}=sC_{\\rho}+(1-s)C\\tag{4.46}$$\n",
    "where s is a scalar shrinkage parameter &mdash; the larger s is, the less trust you have in your correlations. Note that $C_{cc}$ has the same diagonal as the original $C$; variances are not changed in this shrinkage method.\n",
    "\n",
    "Ledoit and Wolf give the following rather elaborate estimate of $s$:\n",
    "- First, define $y_{it}$ as the de-meaned observation of the $i^{th}$ security's return in time period $t$, so that $\\sum_t y_{it}=0$. Then if $Y$ is the sample de-meaned return matrix ($n\\times T$), then $C=\\frac{1}{T}YY^{\\intercal}$ is the sample covariance matrix.\n",
    "- Second, define $f_{ij}$ as the $(i,j)$ element of $C_{\\rho}$ and $s_{ij}$ as the (i,j) element of $C$.\n",
    "- Third, compute $\\hat{\\pi}=\\sum_i\\sum_k\\pi_{ij}$ where $\\pi_{ij}=\\frac{1}{T}\\sum_{t=1}^T\\bigl(y_{it}y_{jt}-s_{ij}\\bigr)^2$\n",
    "- Fourth, compute $\\hat{\\nu}_{ii,ij}=\\frac{1}{T}\\sum_{t=1}^T\\bigl(y_{it}^2-s_{ii}\\bigr)\\bigl(y_{it}y_{jt}-s_{ij}\\bigr)$. Then compute $\\hat{x}=\\sum_{i=1}^n\\pi_{ii}+\\frac{\\rho_{average}}{2}\\sum_{i=1}^n\\sum_{j=1,j\\neq i}^n\\bigl(\\sqrt{\\frac{s_{jj}}{s_{ii}}}\\hat{\\nu}_{ii,ij}+\\sqrt{\\frac{s_{ii}}{s_{jj}}}\\hat{\\nu}_{jj,ij}\\bigr)$\n",
    "- Fifth, compute $\\hat\\gamma=\\sum_{i=1}^n(f_{ij}-s_{ij})^2$\n",
    "- Sixth, set $s=\\frac{\\hat{\\pi}-\\hat{x}}{\\hat{\\gamma}}$. Ledoit and Wolf suggest bounding this between 0 and 1 if necessary.\n",
    "\n",
    "While this estimate of the optimal shrinkage intensity $s$ is quite complicated to write down, it is not hard to program. An easier heuristic is to set $s$ equal to the fraction of the trace contained in the correlation matrix's first $\\sqrt{n}$ eigenvalues.\n",
    "\n",
    "In a later paper [Ledoit and Wolf 2004](https://doi.org/10.1016/S0047-259X(03)00096-4) suggest a different prior: rather than keeping variances the same, they shrink them back to the average variance. They also shrink correlations to zero. This second Ledoit-Wolf shrinkage method has [been implemented in packages like Scikit-Learn](https://scikit-learn.org/stable/modules/covariance.html#shrunk-covariance).\n",
    "\n",
    "The second Ledoit-Wolf shrinkage method starts with $X$, the $T\\times n$ matrix of data such as returns or log-returns of $n$ variables observed over $T$ time periods. The sample covariance matrix is $C=\\frac{1}{T-1}X'(I-J/T)X$, where $I$ is the $T\\times T$ identity matrix and $J$ is the $T\\times T$ matrix of all ones; the $I-J/T$ term de-means the observations. This is shrunk to\n",
    "$$C^*=s^*(\\bar{v}I)+(1-s^*)C\\label{eq:ledoit_wolf_2}\\tag{4.47}$$\n",
    "where $\\bar{v}$ is the average variance, i.e. the trace of the sample covariance matrix $C$ divided by $n$, the dimension of $C$.\n",
    "\n",
    "The shrinkage intensity $s^*$ is formed as follows: Define $d=\\|S-\\bar{v}I\\|$, where $\\|x\\|=\\sqrt{\\text{tr}{(xx^{\\intercal})/n}}=\\sqrt{\\frac{1}{n}\\sum_{i=1}^n\\sum_{j=1}^nx_{i,j}^2}$. Here $tr(z)$ means the trace of the matrix $z$, so $\\|x\\|$ is the scaled Frobenius norm of the $n\\times n$ matrix $x$. Define\n",
    "$$\\bar{b}^2=\\frac{1}{T^2}\\sum_{i=1}^T\\|x_i^{\\intercal}x_i-C\\|^2\\tag{4.48}$$\n",
    "where $x_i$ is the $i^{th}$ row of the de-meaned observation matrix $(I-J/T)X$. Then the shrinkage intensity is $s^*=min(1,\\frac{\\bar{b}^2}{d^2})$.\n",
    "\n",
    "A heuristic method combining the two Ledoit-Wolf shrinkage estimators with both variance and correlation priors centralized looks like this:\n",
    "$$C_{cc}^*=s_{cc}^*\\bar{v}(I+\\rho_{average}(J-I))+(1-s_{cc}^*)C\\label{eq:ledoit_wolf_heuristic}\\tag{4.49}$$\n",
    "\n",
    "In the next cell we apply the heuristic Ledoit-Wolf shrinkage method \\eqref{eq:ledoit_wolf_heuristic} to our three-currency example covariance matrix. As above, we hold out the last year of our sample data so we can later compare the estimates with the last year's out-of-sample covariance matrix. For comparison, we show the Scikit-Learn version of the \\eqref{eq:ledoit_wolf_2} estimator. Both methods have small shrinkage intensities due to the large number of observations, which increases confidence in the sample covariance matrix $C$."
   ]
  },
  {
   "cell_type": "code",
   "execution_count": 13,
   "metadata": {},
   "outputs": [
    {
     "name": "stdout",
     "output_type": "stream",
     "text": [
      "As of 2020-12-31:\n",
      "Ledoit-Wolf heuristic shrinkage factor: 0.028561131922019173\n",
      "Average correlation: 0.4498706659045772 ; average variance: 4.2319336365584934e-05\n",
      "Ledoit-Wolf heuristic covariance estimate:\n",
      " [[5.0287e-05 2.4193e-05 2.1510e-05]\n",
      " [2.4193e-05 3.5972e-05 1.1690e-05]\n",
      " [2.1510e-05 1.1690e-05 4.0699e-05]]\n",
      "Scikit-Learn Ledoit-Wolf shrinkage factor: 0.003352114013335964\n",
      "Scikit-Learn Ledoit-Wolf covariance estimate:\n",
      " [[4.9806e-05 2.3945e-05 2.1246e-05]\n",
      " [2.3945e-05 3.5442e-05 1.1280e-05]\n",
      " [2.1246e-05 1.1280e-05 4.0093e-05]]\n"
     ]
    }
   ],
   "source": [
    "# Ledoit-Wolf heuristic covariance estimator 4.49\n",
    "# Scikit-Learn Ledoit-Wolf covariance estimator\n",
    "\n",
    "# Form the three-currency correlation matrix as of previous year\n",
    "prev_sig=np.sqrt(np.diag(np.diag(prev_c)))\n",
    "prev_sig_inverse=np.linalg.inv(prev_sig)\n",
    "prev_r_matrix=(prev_sig_inverse @ prev_c) @ prev_sig_inverse\n",
    "\n",
    "# Get average correlation (off-diagonal)\n",
    "prev_avg_corr=(np.sum(prev_r_matrix)-prev_dim)/(prev_dim**2-prev_dim)\n",
    "# Get average variance\n",
    "prev_avg_variance=np.matrix.trace(prev_c)/prev_dim\n",
    "# Centralized prior\n",
    "prev_prior=prev_avg_variance*(np.ones((prev_dim,prev_dim))*prev_avg_corr+ \\\n",
    "                              np.identity(prev_dim)*(1-prev_avg_corr))\n",
    "\n",
    "# Compute shrinkage intensity modified from 4.47\n",
    "shrink_d=np.linalg.norm(prev_c-prev_prior)/np.sqrt(prev_dim)\n",
    "\n",
    "# b-squared as in 4.48\n",
    "shrink_b_sq=0\n",
    "for i in range(prev_year_n):\n",
    "    mtrx=d[i].reshape(-1,1)\n",
    "    shrink_b_sq+=np.linalg.norm(mtrx.dot(mtrx.T)-prev_c)**2\n",
    "shrink_b_sq/=prev_year_n**2\n",
    "shrink_b_sq/=prev_dim\n",
    "\n",
    "s_ledoit_wolf_heuristic = min(1,shrink_b_sq/shrink_d**2)\n",
    "\n",
    "# Ledoit-Wolf estimate\n",
    "ledoit_wolf_est = np.multiply(1-s_ledoit_wolf_heuristic,prev_c) + \\\n",
    "    np.multiply(s_ledoit_wolf_heuristic,prev_prior)\n",
    "\n",
    "print(\"As of\",prev_year_date+\":\")\n",
    "print(\"Ledoit-Wolf heuristic shrinkage factor:\",s_ledoit_wolf_heuristic)\n",
    "print(\"Average correlation:\",prev_avg_corr,\"; average variance:\",prev_avg_variance)\n",
    "print(\"Ledoit-Wolf heuristic covariance estimate:\\n\",ledoit_wolf_est)\n",
    "\n",
    "# Use Scikit-Learn version\n",
    "from sklearn.covariance import LedoitWolf\n",
    "cov = LedoitWolf().fit(d)\n",
    "print(\"Scikit-Learn Ledoit-Wolf shrinkage factor:\",cov.shrinkage_)\n",
    "print(\"Scikit-Learn Ledoit-Wolf covariance estimate:\\n\",cov.covariance_)"
   ]
  },
  {
   "cell_type": "markdown",
   "metadata": {},
   "source": [
    "### 4.2.2 Statistical Tests\n",
    "\n",
    "The shrinkage estimators of the previous section seem plausible. Some of them have theoretical backing based on assumptions about underlying distributions &mdash; generally multivariate normal &mdash; or about asymptotic behavior. But since any theoretical assumptions about underlying distributions or asymptotic behavior are likely to be violated in practice, it's desirable to have a metric that tests the quality of an estimator.\n",
    "\n",
    "The ultimate metric is the degree to which using the estimator in a portfolio selection process improves out-of-sample results. But there are common statistical tests for equality of means, variances, and covariance matrices that can be used to check directly whether or not a method is delivering better out-of-sample prediction.\n",
    "\n",
    "Typically such tests are based on a function of observed data that produces a scalar metric whose distribution is known under assumptions about the distribution of the underlying data. It's also common that the test statistic will have a minimum (and best) value of zero. For example, suppose $f(x_1,x_2)$ is the statistic that we test to see whether or not the means of $x_1$ and $x_2$ could be the same, where $x_1$ and $x_2$ are sets of observed $n$-vectors. We will probably have $f(x_1,x_2)=0$ when $\\bar{x_1}=\\bar{x_2}$. $f(x_1,x_2)$ will then increase as $\\bar{x_1}$ gets further and further away from $\\bar{x_2}$.\n",
    "\n",
    "Once a test metric like $f(x_1,x_2)$ is computed, a **`p-value`** can be found. The p-value is the cdf of the test metric under the test distribution. For example, we'll show a test statistic in \\eqref{eq:hotelling_stat} below that does what we described in the previous paragraph; it tests for equality of means. This statistic follows an F distribution (see below) if the underlying data is multivariate normal. Thus the larger the cdf of the test statistic, the less likely it is that the two samples were generated by processes with the same mean vector. If the cdf is large enough (typically .95 or .99 for 5% or 1% significance), we might say that we reject the null hypothesis. (In our example the null hypothesis is the equality of means of the generating processes for the two samples.) Otherwise we **`fail to reject the null hypothesis.`**\n",
    "\n",
    "Unfortunately p-values depend on what are usually overly strong assumptions about the underlying generating distributions of the observed data. We agree with the [American Statistical Association's statement](https://www.tandfonline.com/doi/full/10.1080/00031305.2016.1154108) on p-values, which among other things states\n",
    ">Scientific conclusions and business or policy decisions should not be based only on whether a p-value passes a specific threshold. \n",
    "\n",
    "But while the p-values might not be realistic, the test metrics might still help to distinguish relative distances. For example there might be two different methods of predicting out-of-sample behavior. We can look at the test metric that gives how distant each predictive vector is from out-of-sample data that was generated after the predictions were made. This can help assess predictive quality on a relative basis, but not necessarily on an absolute basis."
   ]
  },
  {
   "cell_type": "markdown",
   "metadata": {},
   "source": [
    "#### 4.2.2.1 Equality of mean vectors: Hotelling's Test\n",
    "\n",
    "The James-Stein estimator satisfied the property \\eqref{eq:shrinkage_james_stein_property}, which said that in some sense the James-Stein estimator $m_{new}$ was closer to the true (but unknown) population mean vector $m_{true}$ than the sample mean $m$. The distance metric was based on the inverse of the population covariance matrix $C$.\n",
    "\n",
    "A more general form of this metric is [Hotelling's T statistic](https://doi.org/10.1214%2Faoms%2F1177732979), which in turn is a generalization of the Student's T statistic we will see in Section 7.2 below. Hotelling supposes that we have two groups of data drawn independently from multivariate normal distributions, and we want to test the hypothesis that the mean vectors are the same.\n",
    "\n",
    "So suppose that group $i$ ($i=1,2$) has observations $x_{i,1},\\dots,x_{i,T_i}$ where each $x_{i,t}$ is a p-vector. Let $m_i=\\frac{1}{T_i}\\sum_{j=1}^{T_i}x_{i,j}$ and $S_i=\\frac{1}{T_i-1}\\sum_{j=1}^{T_i}(x_{i,j}-m_i)(x_{i,j}-m_i)^{\\intercal}$ be the sample mean vector and the sample covariance matrix, respectively, for the $i^{th}$ group. Form the combined covariance matrix $S_{comb}=\\frac{(T_1-1)S_1+(T_2-1)S_2}{T_1+T_2-2}$. Then Hotelling's T statistic is\n",
    "$$H(1,2)=\\bigl(\\frac{T_1+T_2-p-1}{(T_1+T_2-2)p}\\bigr)\\bigl(\\frac{T_1T_2}{T_1+T_2}\\bigr)(m_1-m_2)^{\\intercal}S_{comb}^{-1}(m_1-m_2)\\label{eq:hotelling_stat}\\tag{4.50}$$\n",
    "\n",
    "$H(1,2)$ is distributed as an [F distribution](http://mathworld.wolfram.com/F-Distribution.html) with parameters $p$ and $T_1+T_2-1-p$. Thus if $F(H(1,2),p,T_1+T_2-1-p)>c$, we reject the null hypothesis that $x_1$ and $x_2$ were drawn from distributions with the same mean vectors with confidence $c$. However, this test is very sensitive to the assumption that the generating distributions were normal.\n",
    "\n",
    "The code in the next cell applies Hotelling's test to the James-Stein and Jorion estimates of the three-currency mean vector, comparing them to the holdout year's mean vector."
   ]
  },
  {
   "cell_type": "code",
   "execution_count": 14,
   "metadata": {},
   "outputs": [
    {
     "name": "stdout",
     "output_type": "stream",
     "text": [
      "Comparing mean vector estimates as of 2020-12-31\n",
      "    with mean vector for year ending 2021-12-31:\n",
      "\n",
      "Hotelling statistics for James-Stein, Jorion: 0.6410467792416411 0.58019978427698\n",
      "P-values for James-Stein, Jorion: 0.5885261233701685 0.627956786337834\n",
      "    Jorion has higher p- value\n",
      "\n",
      "James-Stein: Cannot reject null hypothesis of equal means at 99% significance\n",
      "Jorion: Cannot reject null hypothesis of equal means at 99% significance\n"
     ]
    }
   ],
   "source": [
    "import scipy.stats as spst\n",
    "#Hotelling's test for james_stein and jorion\n",
    "\n",
    "def hotelling(T1,T2,p,m1,m2,s1,s2):\n",
    "    #Compute Hotelling's statistic and p value\n",
    "\n",
    "    #Combined covariance matrix\n",
    "    scomb=((T1-1)*s1+(T2-1)*s2)/(T1+T2-2)\n",
    "\n",
    "    #Multiplier for statistic\n",
    "    hmult=(T1+T2-p-1)*T1*T2/((T1+T2-2)*p*(T1+T2))\n",
    "\n",
    "    #Matrix algebra for statistic\n",
    "    if p==1:\n",
    "        h12=hmult*(m1-m2)**2/scomb\n",
    "    else:\n",
    "        h12=hmult*((m1-m2) @ np.linalg.inv(scomb)) @ (m1-m2)\n",
    "    \n",
    "    p_value = 1.0 - spst.f.cdf(h12, p, T1+T2-1-p)\n",
    "    #Note when the dimension p=1, p_value will equal spst.ttest_ind(x1,x2)\n",
    "\n",
    "    return(h12,p_value)\n",
    "    \n",
    "# Compute mean vector of latest year\n",
    "\n",
    "latest_m = np.average(d[prev_year_n:],axis=0)\n",
    "\n",
    "# Compute covariance matrix of latest year\n",
    "latest_c = np.cov(d[prev_year_n:].T)\n",
    "\n",
    "# James-Stein\n",
    "h12_js, p_js = hotelling(prev_year_n,len(d)-prev_year_n,prev_dim, \\\n",
    "                    james_stein_m, latest_m, prev_c, latest_c)\n",
    "\n",
    "# Jorion\n",
    "h12_jo, p_jo = hotelling(prev_year_n,len(d)-prev_year_n,prev_dim, \\\n",
    "                    jorion_m, latest_m, prev_c, latest_c)\n",
    "\n",
    "print(\"Comparing mean vector estimates as of\",prev_year_date)\n",
    "print(\"    with mean vector for year ending\",lastday+\":\\n\")\n",
    "print(\"Hotelling statistics for James-Stein, Jorion:\",h12_js,h12_jo)\n",
    "print(\"P-values for James-Stein, Jorion:\",p_js,p_jo)\n",
    "if p_js > p_jo:\n",
    "    print(\"    James-Stein has higher p-value\\n\")\n",
    "else:\n",
    "    print(\"    Jorion has higher p- value\\n\")\n",
    "\n",
    "def signif_print(thresh,str_name,str_type,p_value):\n",
    "#Print out text explaining significance\n",
    "    one_minus_thresh=(1-thresh)*100\n",
    "\n",
    "    if p_value < thresh:\n",
    "        str_p=str_name+\"Reject null hypothesis of equal \"+str_type\n",
    "        str_p+=\" at %2.f\" % one_minus_thresh\n",
    "    else:\n",
    "        str_p=str_name+\"Cannot reject null hypothesis of equal \"+str_type\n",
    "        str_p+=\" at %2.f\" % one_minus_thresh\n",
    "    str_p+=\"% significance\"\n",
    "    print(str_p)\n",
    "#Done with signif_print\n",
    "    \n",
    "thresh=.01\n",
    "signif_print(thresh,\"James-Stein: \",\"means\",p_js)\n",
    "signif_print(thresh,\"Jorion: \",\"means\",p_jo)"
   ]
  },
  {
   "cell_type": "markdown",
   "metadata": {},
   "source": [
    "#### 4.2.2.2 Equality of variances: Levene's Test\n",
    "\n",
    "[Levene's Test](https://doi.org/10.1214/09-STS301) for equality of variances across two samples is less dependant on the assumption of normality than an older test by Bartlett .\n",
    "\n",
    "Extending the notation used in \\eqref{eq:hotelling_stat}, let $x_{i,j,k}$ be the $k^{th}$ element of the $p$-vector $x_{i,j}$. For each $k$, Levene's Test tests the hypothesis that the $T_1$ observations $x_{1,j,k}$ were drawn from a distribution with the same variance as the $T_2$ observations $x_{2,j,k}$.\n",
    "\n",
    "To do this, define $z_{i,j,k}=|x_{i,j,k}-m_{i,k}|$, where $m_{i,k}$ is the $k^{th}$ element of the $p$-vector $m_i$ defined above. Let $z_{i,k}=\\frac{1}{T_i}\\sum_{j=1}^{T_i}z_{i,j,k}$ be the mean of these absolute values for group $i$, element $k$, and let $z_{k}=\\frac{1}{T_1+T_2}\\sum_{i=1}^2\\sum_{j=1}^{T_i}z_{i,j,k}$ be the overall average absolute difference. Then the Levene statistic for the $k^{th}$ element is\n",
    "$$L_k=(T_1+T_2-2)\\frac{T_1(z_{1,k}-z_{k})^2+T_2(z_{2,k}-z_{k})^2}{\\sum_{i=1}^2\\sum_{j=1}^{T_i}(z_{i,j,k}-z_{i,k})^2}\\label{eq:levene}\\tag{4.51}$$\n",
    "\n",
    "$L_k$ is distributed as an F distribution with parameters $1$ and $T_1+T_2-2$. Thus if $F(L_k;1,T_1+T_2-1)>c$, we reject the null hypothesis that $x_{1,j,k}$ and $x_{2,j,k}$ were drawn from distributions with the same variances with confidence $c$. \n",
    "\n",
    "In the next cell, we apply Levene's Test to the three sample variances from the three-currency example for previous years compared to the latest year."
   ]
  },
  {
   "cell_type": "code",
   "execution_count": 15,
   "metadata": {},
   "outputs": [
    {
     "name": "stdout",
     "output_type": "stream",
     "text": [
      "Comparing variances up to 2020-12-31 with year ending 2021-12-31:\n",
      "Levene statistic for DEXSZUS:  40.01670112746961 , p-value:  2.601971971216699e-10\n",
      "Cross-check: results of scipy.stats.levene: 40.01670112746961 2.6019715443618535e-10\n",
      "DEXSZUS: Reject null hypothesis of equal variances at 99% significance\n",
      "Levene statistic for DEXUSUK:  13.535888739663358 , p-value:  0.0002350056470314943\n",
      "Cross-check: results of scipy.stats.levene: 13.535888739663358 0.00023500564703147385\n",
      "DEXUSUK: Reject null hypothesis of equal variances at 99% significance\n",
      "Levene statistic for DEXJPUS:  34.26963095558968 , p-value:  4.915895357449074e-09\n",
      "Cross-check: results of scipy.stats.levene: 34.26963095558968 4.9158953785410015e-09\n",
      "DEXJPUS: Reject null hypothesis of equal variances at 99% significance\n"
     ]
    }
   ],
   "source": [
    "# Apply Levene's Test to three-currency example with previous years\n",
    "# compared to latest year\n",
    "#Note the results shown are the same as\n",
    "#scipy.stats.levene(d[:prev_year_n,k],d[prev_year_n:,k],center='mean')\n",
    "\n",
    "def levene(x1,x2):\n",
    "\n",
    "    #Numbers of observations\n",
    "    T1=len(x1)\n",
    "    T2=len(x2)\n",
    "    #Could also use median\n",
    "    m1=np.average(x1)\n",
    "    m2=np.average(x2)\n",
    "    #Form absolute difference observations\n",
    "    z1j=[np.abs(x1[j]-m1) for j in range(T1)]\n",
    "    z2j=[np.abs(x2[j]-m2) for j in range(T2)]\n",
    "    #Average absolute difference in each set\n",
    "    z1=np.average(z1j)\n",
    "    z2=np.average(z2j)\n",
    "    #Overall average difference\n",
    "    z=(T1*z1+T2*z2)/(T1+T2)\n",
    "\n",
    "    levene_mult=T1+T2-2\n",
    "    levene_numer=T1*(z1-z)**2+T2*(z2-z)**2\n",
    "    levene_denom=np.sum((z1j-z1)**2)+np.sum((z2j-z2)**2)\n",
    "\n",
    "    levene_stat=levene_mult*levene_numer/levene_denom\n",
    "\n",
    "    p_value = 1 - spst.f.cdf(levene_stat, 1, T1+T2-2)\n",
    "\n",
    "    return(levene_stat,p_value)\n",
    "#Done with levene\n",
    "\n",
    "print(\"Comparing variances up to\",prev_year_date,\"with year ending \"+lastday+\":\")\n",
    "for i in range(prev_dim):\n",
    "\n",
    "    lstat, p_value = levene(d[:prev_year_n,i],d[prev_year_n:,i])\n",
    "    print(\"Levene statistic for \"+seriesnames[i]+\": \",lstat,\", p-value: \",p_value)\n",
    "    x,y = spst.levene(d[:prev_year_n,i],d[prev_year_n:,i],center='mean')\n",
    "    print(\"Cross-check: results of scipy.stats.levene:\",x,y)\n",
    "    signif_print(thresh,seriesnames[i]+\": \",\"variances\",p_value)\n"
   ]
  },
  {
   "cell_type": "markdown",
   "metadata": {},
   "source": [
    "#### 4.2.2.3 Equality of covariance matrices: Box's M Test\n",
    "\n",
    "[Box's M Test](https://doi.org/10.1093/biomet/36.3-4.317) can be used to test the equality of covariance matrices. If $S_1$, $S_2$, and $S_{comb}$ are as defined in Section 4.2.2.1, then Box's M statistic is\n",
    "$$M(1,2)=\\bigl((T_1+T_2-2)\\ln{(\\det(S_{comb}))}-(T_1-1)\\ln{(\\det(S_1))}$$\n",
    "$$-(T_2-1)\\ln{(\\det(S_2))}\\bigr)\\label{eq:box_m_stat}\\tag{4.52}$$\n",
    "The statistic is modified by a multiplier that takes into account finite sample size. Box defines (equation (49)):\n",
    "$$A_1=\\frac{2p^2+3p-1}{6(p+1)}\\bigl(\\frac{1}{T_1-1}+\\frac{1}{T_2-1}-\\frac{1}{T_1+T_2-2}\\bigr)\\label{eq:box_m_a1}\\tag{4.53}$$\n",
    "and\n",
    "$$A_2=\\frac{(p-1)(p+2)}{6}\\bigl(\\frac{1}{(T_1-1)^2}+\\frac{1}{(T_2-1)^2}-\\frac{1}{(T_1+T_2-2)^2}\\bigr)\\label{eq:box_m_a2}\\tag{4.54}$$\n",
    "\n",
    "If $A_2-A_1^2\\leq0$, $M(1,2)(1-A_1)$ is distributed as a $\\chi^2$ distribution with $\\text{df}_1$ degrees of freedom, where $\\text{df}_1=\\frac{p(p+1)}{2}$. So in this case, the p-value is $\\chi^2(M(1,2)(1-A_1),\\text{df}_1)$.\n",
    "\n",
    "Otherwise, define $\\text{df}_2=\\frac{\\text{df}_1+2}{A_2-A_1^2}$ and $b=\\frac{\\text{df}_1}{1-A_1-(\\text{df}_1/\\text{df}_2)}$; then $M(1,2)/b$ is distributed as an F distribution with $\\text{df}_1$ and $\\text{df}_2$ degrees of freedom. In this case the p-value is $F(M(1,2)/b,\\text{df}_1,\\text{df}_2)$.\n",
    "\n",
    "The null hypothesis is that that $S_1$ and $S_2$ were formed from samples drawn from multivariate normal distributions with a common covariance matrix. We reject the null hypothesis with confidence $c$ when the p-value is greater than or equal to $c$.\n",
    "\n",
    "This test is very sensitive to the assumption of multivariate normality. A useful heuristic is to first use Levene's Test on the diagonals of the covariance matrices. This provides more precise information as to the particular variables causing hetereoskedasticity, and is less sensitive to non-normality. Once the variances have been checked, the correlation matrices can be extracted from the covariance matrices and Box's M Test can be applied to the correlation matrices.\n",
    "\n",
    "The code in the next segment applies Box's M Test in two parts: first to variances only, and then to correlation matrices. The latest year is compared to previous years' sample data as well as to the Ledoit-Wolf heuristic estimates."
   ]
  },
  {
   "cell_type": "code",
   "execution_count": 16,
   "metadata": {},
   "outputs": [
    {
     "name": "stdout",
     "output_type": "stream",
     "text": [
      "Comparing variances up to 2020-12-31 with year ending 2021-12-31:\n",
      "Box M-stat and p-value for sample variances only: 50.32418275579166 1.1102230246251565e-16\n",
      "Reject null hypothesis of equal sample variances only at 99% significance\n",
      "\n",
      "Box M-stat and p-value for sample correlation matrices: 2.4087684034423615 0.024969986917740106\n",
      "Cannot reject null hypothesis of equal sample correlation matrices at 99% significance\n",
      "\n",
      "Box M-stat and p-value for Ledoit-Wolf heuristic vs. latest sample correlations: 2.447021893729138 0.02287913453211954\n",
      "Cannot reject null hypothesis of equal correlation matrices at 99% significance\n"
     ]
    }
   ],
   "source": [
    "# Box M Test for covariance matrices\n",
    "# From G.E.P. Box, \"A General Distribution Theory for a Class of Likelihood Criteria\",\n",
    "# Biometrika 36, December 1949, pp. 317-346.\n",
    "\n",
    "def BoxM(T1,T2,s1,s2):\n",
    "    #Tests for equality of two covariance matrices, s1 and s2\n",
    "    #T1 and T2 are numbers of observations for s1 and s2\n",
    "    #Returns M statistic and p-value\n",
    "\n",
    "    #Make sure dimension is common\n",
    "    if len(s1)!=len(s2):\n",
    "        print(\"Error: different dimensions in Box M Test:\",len(s1),len(s2))\n",
    "        return(0,0)\n",
    "    \n",
    "    #Matrices are pxp\n",
    "    p=len(s1)\n",
    "\n",
    "    #Form the combined matrix\n",
    "    scomb=(T1*s1+T2*s2)/(T1+T2)\n",
    "\n",
    "    #Box M statistic\n",
    "    Mstat=(T1+T2-2)*np.log(np.linalg.det(scomb))-(T1-1)* \\\n",
    "        np.log(np.linalg.det(s1))-(T2-1)*np.log(np.linalg.det(s2))\n",
    "\n",
    "    #Multipliers from equation (49) in Box 1949.\n",
    "    A1=(2*p**2+3*p-1)/(6*(p+1))\n",
    "    A1*=(1/(T1-1)+1/(T2-1)-1/(T1+T2-2))\n",
    "\n",
    "    A2=(p-1)*(p+2)/6\n",
    "    A2*=(1/(T1-1)**2+1/(T2-1)**2-1/(T1+T2-2)**2)\n",
    "\n",
    "    discrim=A2-A1**2\n",
    "\n",
    "    #Degrees of freedom\n",
    "    df1=p*(p+1)/2\n",
    "\n",
    "    if discrim <= 0:\n",
    "        #Use chi-square (Box 1949 top p. 329)\n",
    "        test_value=Mstat*(1-A1)\n",
    "        p_value=1-spst.chi2.cdf(test_value,df1)\n",
    "    else:\n",
    "        #Use F Test (Box 1949 equation (68))\n",
    "        df2=(df1+2)/discrim\n",
    "        b=df1/(1-A1-(df1/df2))\n",
    "        test_value=Mstat/b\n",
    "        p_value=1-spst.f.cdf(test_value,df1,df2)\n",
    "    \n",
    "    return(test_value,p_value)\n",
    "#Done with BoxM\n",
    "\n",
    "print(\"Comparing variances up to\",prev_year_date,\"with year ending \"+lastday+\":\")\n",
    "\n",
    "#Apply to sample variances\n",
    "stat, p_value = BoxM(prev_year_n,len(d)-prev_year_n,np.diag(np.diag(prev_c)), \\\n",
    "                     np.diag(np.diag(latest_c)))\n",
    "print(\"Box M-stat and p-value for sample variances only:\",stat,p_value)\n",
    "signif_print(thresh,\"\",\"sample variances only\",p_value)\n",
    "\n",
    "#Compute latest correlation matrix\n",
    "latest_sig=np.sqrt(np.diag(np.diag(latest_c)))\n",
    "latest_sig_inverse=np.linalg.inv(latest_sig)\n",
    "latest_r_matrix=(latest_sig_inverse @ latest_c) @ latest_sig_inverse\n",
    "\n",
    "#Apply to sample correlations\n",
    "stat, p_value = BoxM(prev_year_n,len(d)-prev_year_n,prev_r_matrix,latest_r_matrix)\n",
    "print(\"\\nBox M-stat and p-value for sample correlation matrices:\",stat,p_value)\n",
    "signif_print(thresh,\"\",\"sample correlation matrices\",p_value)\n",
    "\n",
    "#Apply to Ledoit-Wolf heuristic correlations\n",
    "lwh_sig=np.sqrt(np.diag(np.diag(ledoit_wolf_est)))\n",
    "lwh_sig_inverse=np.linalg.inv(lwh_sig)\n",
    "lwh_r_matrix=(lwh_sig_inverse @ ledoit_wolf_est) @ lwh_sig_inverse\n",
    "stat, p_value = BoxM(prev_year_n,len(d)-prev_year_n,lwh_r_matrix,latest_r_matrix)\n",
    "print(\"\\nBox M-stat and p-value for Ledoit-Wolf heuristic vs. \"+ \\\n",
    "      \"latest sample correlations:\",stat,p_value)\n",
    "signif_print(thresh,\"\",\"correlation matrices\",p_value)\n"
   ]
  },
  {
   "cell_type": "markdown",
   "metadata": {},
   "source": [
    "### 4.2.3 Resampled Efficient Frontier\n",
    "\n",
    "Shrinkage techniques deal with estimation error in means and covariances, but not directly with finding the portfolios on the efficient frontier. In 1992, [Philippe Jorion](https://www.jstor.org/stable/4479507) addressed the problem of finding efficient frontiers directly with the following procedure:\n",
    ">1. Compute the means and covariance matrix from the actual sample of historical returns. Define T as the sample size (number of months, say) and N as the number of assets. Perform the optimization, given the stated objective function and investor constraints.\n",
    ">2. Assume that the estimates from Step 1 are true values. From a multivariate normal distribution with these parameters, draw one random sample of N joint returns. This represents one month of simulated returns. Sample again until T months are generated.\n",
    ">3. Estimate from these simulated returns a new set of means and a new variance-covariance matrix; perform an optimization using these inputs. The simulated optimal portfolio provides one observation in the distribution of the original optimal portfolio.\n",
    ">4. Repeat Steps 2 and 3 until the distribution of the optimal portfolio is approximated with enough precision.\n",
    "\n",
    "We can follow Jorion's procedure to see how much ambiguity there is in the minimum-variance portfolio $w_{minv}=\\frac{C^{-1}u}{u^{\\intercal}C^{-1}u}$ from our three-currency example:"
   ]
  },
  {
   "cell_type": "code",
   "execution_count": 17,
   "metadata": {},
   "outputs": [
    {
     "data": {
      "image/png": "[encoded data removed]",
      "text/plain": [
       "<Figure size 432x288 with 1 Axes>"
      ]
     },
     "metadata": {
      "needs_background": "light"
     },
     "output_type": "display_data"
    }
   ],
   "source": [
    "#Resample the minimum variance portfolio from 3-currency example\n",
    "np.random.seed(662607)\n",
    "\n",
    "samp_size=1000\n",
    "samp_time_periods=1000\n",
    "samp_stds=[]\n",
    "samp_means=[]\n",
    "samp_portfolios=[]\n",
    "for trial in range(samp_size):\n",
    "    #Generate a virtual history of returns in x\n",
    "    x=np.random.multivariate_normal(m,c,samp_time_periods)\n",
    "    #Compute the virtual history's mean, covariance, and inverse covariance\n",
    "    samp_m=np.mean(x,axis=0)\n",
    "    samp_c=np.cov(x.T)\n",
    "    samp_ci=np.linalg.inv(samp_c)\n",
    "    #Compute minimum variance portfolio s_vec2 according to new parameters\n",
    "    s_uciu=np.sum(samp_ci)\n",
    "    s_vec2=(samp_ci @ u)/s_uciu\n",
    "    #Find the mean and standard deviation of\n",
    "    #this portfolio according to the old parameters\n",
    "    samp_means.append(10000*(s_vec2 @ m))\n",
    "    samp_stds.append(100*np.sqrt((s_vec2 @ c) @ s_vec2))\n",
    "    samp_portfolios.append(s_vec2)\n",
    "\n",
    "#Plot the minimum variance portfolios \n",
    "plt.scatter(samp_stds,samp_means,marker='o',color='green')\n",
    "#Plot the original MV portfolio\n",
    "plt.scatter(np.sqrt(10000./uciu),10000.*ucim/uciu,marker='*',color='red')\n",
    "#Plot the average of the resampled MV portfolios\n",
    "plt.scatter(np.mean(samp_stds),np.mean(samp_means),marker='x',color='blue')\n",
    "#Zoom in on the x-range\n",
    "xdiff=np.max(samp_stds)-np.min(samp_stds)\n",
    "plt.xlim(np.min(samp_stds)-.05*xdiff,np.max(samp_stds)+.05*xdiff)\n",
    "plt.title('Figure 4.6: Resampled Minimum Variance Portfolios')\n",
    "plt.xlabel('Standard Deviation (pct/day)')\n",
    "plt.ylabel('Return (bps/day)')\n",
    "plt.grid(True)\n",
    "plt.show();"
   ]
  },
  {
   "cell_type": "markdown",
   "metadata": {},
   "source": [
    "There's a very large range of mean returns of the resampled minimum variance portfolio shown in Figure 4.6. The standard deviations (x-axis) are less variable, but even they show not only a range, but also an inevitable upward bias. The red marker is the original minimum variance portfolio, which is the only efficient portfolio on the graph according to the original parameters. The blue marker is the average of the sample characteristics, which is riskier than the original minimum variance portfolio. The difference between the blue marker and the red marker is an indication of how overly optimistic we were about our ability to get a low-variance portfolio.\n",
    "\n",
    "There's also uncertainty about the weights. We can compute a 95% confidence interval for them from the sample:"
   ]
  },
  {
   "cell_type": "code",
   "execution_count": 18,
   "metadata": {},
   "outputs": [
    {
     "name": "stdout",
     "output_type": "stream",
     "text": [
      "95% confidence for MV portfolio:\n",
      "                     (CHF      GBP     JPY)\n",
      "Bottom of interval:  [0.0113 0.4631 0.3938]\n",
      "Middle of interval:  [0.0574 0.5105 0.4325]\n",
      "Original MV port:    [0.0575 0.5099 0.4326]\n",
      "Top of interval:     [0.106  0.5535 0.4715]\n"
     ]
    }
   ],
   "source": [
    "#Show the 95% confidence intervals for the MV portfolio    \n",
    "bottom=np.percentile(samp_portfolios,5,axis=0)\n",
    "middle=np.percentile(samp_portfolios,50,axis=0)\n",
    "top=np.percentile(samp_portfolios,95,axis=0)\n",
    "print(\"95% confidence for MV portfolio:\")\n",
    "print(\"                     (CHF      GBP     JPY)\")\n",
    "print(\"Bottom of interval: \",bottom)\n",
    "print(\"Middle of interval: \",middle)\n",
    "print(\"Original MV port:   \",vec2)\n",
    "print(\"Top of interval:    \",top)"
   ]
  },
  {
   "cell_type": "markdown",
   "metadata": {},
   "source": [
    "Typically we see that zero is in (or close to) the confidence interval for the first (Swiss franc) weight, so we're not even sure we should have any in the minimum variance portfolio. The pound sterling (second) and Japanese yen (third) confidence intervals are typically about 8% wide. And the minimum variance portfolio is generally the most stable since it doesn't use the mean vector as an input!\n",
    "\n",
    "A _resampled efficient frontier_ takes this resampling process and averages it to get a collection of optimal mean-variance portfolios that, it is hoped, will have less dependence on sampling noise. One way of averaging was proposed by Richard Michaud[$^7$](#four_footnotes) in 1998; Michaud has a [US patent](https://patents.google.com/patent/US6003018A/en) on this method, which is offered commercially through the firm [New Frontier Advisors](https://www.newfrontieradvisors.com/).\n",
    "\n",
    "Michaud aggregates the minimum variance portfolios from each sample as we did above. He then chops the remainder of the efficient frontier from the minimum variance to the maximum return &mdash; assuming there is a maximum return &mdash; into an equal number of steps. For example suppose the original frontier had a minimum return of .2 and a maximum of 2 and there were 10 steps desired along the frontier; then 10 efficient portfolios $P_{1,0}$ with return .2; $P_{2,0}$ with return .4; ...; and $P_{10,0}$ with return 2 would be recorded. Then a resampled frontier would be generated for simulation 1; say its minimum and maximum returns were .15 and 2.88. The compositions of the 10 portfolios $P_{1,1}$ with return .15; $P_{2,1}$ with return .47; ...; and $P_{10,1}$ with return 2.88 would be recorded. This would be done for S simulations. Then the resampled frontier would consist of the 10 portfolios $\\frac{1}{S+1}\\sum_{s=0}^S P_{i,s}$ \n",
    "\n",
    "The Michaud method essentially aggregates resampled portfolios by target mean. Another method is offered by [Morningstar/Ibbotson](https://corporate.morningstar.com/Fib/documents/MethodologyDocuments/ResearchPapers/RobustAssetAllocation.pdf) which essentially aggregates by target standard deviation; their description is:\n",
    ">Ibbotson uses a proprietary \"bin approach,\" in which asset allocations from the _simulated_ portfolios are grouped together based on narrowly defined standard deviation ranges that cover the risk spectrum. The average asset allocations are then linked back to the original inputs to plot the resampled efficient frontier.\n",
    "\n",
    "Whichever method is used, the general idea is to (a) lower and (b) estimate sampling noise through a process of resampling. [Bernd Scherer](https://doi.org/10.2469/faj.v58.n6.2489) points out that resampling methods will average out to the original efficient frontier when there are no constraints in the optimization process, but when there are constraints - for example, long-only holdings - the resampled frontier will generally improve on the original frontier. That is, empirical tests have generally shown that resampled frontiers do better at predicting out-of-sample (future) behavior than the original efficient frontier. But resampling is a heuristic rather than a proof, and practitioners continue to search for even better heuristics to predict out-of-sample behavior.\n"
   ]
  },
  {
   "cell_type": "markdown",
   "metadata": {},
   "source": [
    "## 4.3 Black-Litterman\n",
    "\n",
    "[Black-Litterman](https://doi.org/10.3905/jfi.1991.408013) is another attempt to deal with poor estimation of the Markowitz parameters, in this case through a Bayesian framework. Fischer Black's contributions to mathematical finance include (among many others) the Black-Scholes option pricing formula and two of the [short rate models](#other_short_rate_models) we discussed. Robert Litterman headed quantitative management at Goldman Sachs Asset Management and who we have already seen in the Litterman-Sheinkman paper about [key rates](#rolldown_key_rates). \n",
    "\n",
    "In the Black-Litterman framework, we assume there is a true but unobservable expected mean $n$-vector $\\mu$ that is associated with the process generating asset returns. Before updating our information to estimate $\\mu$, we have a prior belief: namely that it is consistent with the Capital Asset Pricing Model (\"CAPM\"), which we will cover in Section 6.1. The prior that comes from that model is:\n",
    "$$\\mu_{CAPM}=r_f u + (\\mathbb{E}[r_M]-r_f)\\beta\\label{eq:black_litterman_capm}\\tag{4.70}$$\n",
    "where $\\mathbb{E}[r_M]$ is the expected return on the market. $\\beta=\\frac{w_M^{\\intercal}C}{w_M^{\\intercal}C w_M}$, where $C$ is as in \\eqref{eq:covariance_matrix}.\n",
    "\n",
    "Our error of estimate is given by a multivariate normal distribution with mean 0 and covariance matrix $sC$, where $s$ is a confidence scalar. If s=0, we are perfectly confident that $\\mu_{CAPM}$ is the right answer. As s gets larger, we get less confident. $C$ might be estimated from historical returns or from an equity model. Note however that a full covariance matrix $C$ is not consistent with the CAPM, which assumes $C=\\sigma_M\\beta^{\\intercal}\\beta$.\n",
    "\n",
    "In the Black-Litterman framework, we can express views (opinions) about the actual mean return n-vector $\\mu$. A view is a value of some linear combination of returns. The simplest view is that a return on a particular asset will take on a particular value, but we can also (for example) express a view on an industry (a weighted combination of the assets in that industry), or on one group of assets versus another (a hedge or relative value trade). In general, we write\n",
    "$$p=V\\mu+\\epsilon\\label{eq:black_litterman_views}\\tag{4.71}$$\n",
    "where V is a $v\\times n$ matrix whose rows are the linear combinations expressing the form of our views, of which we have v. p is a v-vector giving the outcomes of the views. $\\epsilon$ is an error v-vector with mean 0.\n",
    "\n",
    "For example, if we believe pharmaceutical stocks will outperform energy stocks by 12%, a row of $V$ would have positive weights (perhaps capitalization-weighted) on all the pharmaceutical stocks and negative weights on energy stocks, and the corresponding row of the v-column-vector $p$ would be 12%.\n",
    "\n",
    "We are trying to minimize the error term $\\epsilon$ on the right-hand side. To do this, we could solve a standard ordinary least squares (OLS) regression using least squares, obtaining $\\mu=(V^{\\intercal}V)^{-1}V^{\\intercal}p$. However in accordance with our theme of keeping track of how much we don't trust our parameters, we assume that the error vector $\\epsilon$ is multivariate normally distributed with mean 0 and $v\\times v$ covariance matrix $\\Gamma$. The smaller the entries of $\\Gamma$, the more confident we are in our views. Usually we assume off-diagonal elements are 0, and that really is just to make things easier.\n",
    "\n",
    "When we have an error matrix like $\\Gamma$, we can use an extension of ordinary least squares regression called generalized least squares (GLS). The idea is to modify OLS regression by weighting the variables we are more sure about more heavily, and the variables we are less sure about less heavily. The GLS solution is\n",
    "$$\\mu_{views}=(V^{\\intercal}\\Gamma^{-1}V)^{-1}V^{\\intercal}\\Gamma^{-1}p\\label{eq:black_litterman_views_mu}\\tag{4.74}$$\n",
    "\n",
    "We have two equations involving our estimate of $\\mu$ &mdash; one from the CAPM \\eqref{eq:black_litterman_capm} and one from views \\eqref{eq:black_litterman_views_mu}. We can put them together and minimize the errors using GLS again. We put everything together into these vectors:\n",
    "$$y=\\left( {\\begin{array}{c}\n",
    "   \\mu_{CAPM} \\\\\n",
    "   p \\\\\n",
    "  \\end{array} } \\right);\n",
    "M=\\left( {\\begin{array}{c}\n",
    "   I \\\\\n",
    "   V \\\\\n",
    "  \\end{array} } \\right);\n",
    "E=\\left( {\\begin{array}{cc}\n",
    "   sC & 0 \\\\\n",
    "   0 & \\Gamma \\\\\n",
    "  \\end{array} } \\right)\\label{eq:black_litterman_matrices}\\tag{4.75}\n",
    "$$\n",
    "Plugging the quantities in \\eqref{eq:black_litterman_matrices} into a GLS like \\eqref{eq:black_litterman_views_mu} gives\n",
    "$$\\mu=\\left(\\frac{1}{s}C^{-1}+V^{\\intercal}\\Gamma^{-1}V\\right)^{-1}\\left(\\frac{1}{s}C^{-1}\\mu_{CAPM}+V^{\\intercal}\\Gamma^{-1}V\\mu_{views}\\right)\\label{eq:black_litterman_overall_mu}\\tag{4.76}$$\n",
    "Recall that $s$ is the scalar that shows how much we disbelieve the prior &mdash; the CAPM view. As $s\\rightarrow 0$, the views become less and less important and the estimate of $\\mu$ approaches $\\mu_{CAPM}$. On the other hand, as $s\\rightarrow\\infty$, the CAPM prior becomes less and less important and the views dominate, giving $\\mu_{views}$ when the expressions make sense.\n",
    "\n",
    "In this case &mdash; when the matrices are well-behaved enough &mdash; we can write\n",
    "$$\\mu=M_{CAPM}\\mu_{CAPM}+(I-M_{CAPM})\\mu_{views}\\text{, where}$$\n",
    "$$M_{CAPM}=\\left(\\frac{1}{s}C^{-1}+V^{\\intercal}\\Gamma^{-1}V\\right)^{-1}\\frac{1}{s}C^{-1}\\text{  and}\\label{eq:black_litterman_overall_matrices}\\tag{4.77}$$\n",
    "$$M_{views}=\\left(\\frac{1}{s}C^{-1}+V^{\\intercal}\\Gamma^{-1}V\\right)^{-1}V^{\\intercal}\\Gamma^{-1}V\\text{   so}$$\n",
    "$$M_{CAPM}+M_{views}=I$$\n",
    "However note that $M_{CAPM}$ is affected by the views, and $M_{views}$ is affected by the CAPM. In fact views do not only affect the securities for which they are expressed &mdash; they are spread out over the entire vector. This reflects the fact that a view on a security passes through the covariance structure and affects other securities."
   ]
  },
  {
   "cell_type": "markdown",
   "metadata": {},
   "source": [
    "### 4.3.1 Black-Litterman Example\n",
    "\n",
    "We'll work an example of Black-Litterman, using the currency data from earlier in the chapter. For currencies, the concept of \"the market\" is not as clear as it is for stocks. It's relatively easy to compute the total value of investable shares of Apple Computer or Walmart; it's less easy to compute the total value of investment we could make in Swiss francs. We'll just arbitrarily assign a market portfolio for our three currencies:\n",
    "$$w_M=\\left( {\\begin{array}{c}\n",
    "   .05 \\\\\n",
    "   .15 \\\\\n",
    "   .80 \\\\\n",
    "  \\end{array} } \\right)\\tag{4.78}$$\n",
    "\n",
    "Then from our previous data we can compute the expected mean return $m^{\\intercal}w_M$ of the market, and the market's standard deviation $\\sigma_M=\\sqrt{w_M^{\\intercal}C w_M}$:"
   ]
  },
  {
   "cell_type": "code",
   "execution_count": 19,
   "metadata": {},
   "outputs": [
    {
     "name": "stdout",
     "output_type": "stream",
     "text": [
      "Mkt mu= 0.6996911437388623  bps/day\n",
      "Mkt sigma²= 0.3136192847913145 (%/day)²\n"
     ]
    }
   ],
   "source": [
    "#Fake \"market\" for the three currencies\n",
    "wmkt=np.array([.05,.15,.8])\n",
    "mumkt=wmkt @ (m.T)\n",
    "varmkt=(wmkt @ c) @ (wmkt.T)\n",
    "print('Mkt mu=',mumkt*10000,' bps/day')\n",
    "print(f'Mkt sigma\\N{SUPERSCRIPT TWO}=',varmkt*10000,f'(%/day)\\N{SUPERSCRIPT TWO}')"
   ]
  },
  {
   "cell_type": "markdown",
   "metadata": {},
   "source": [
    "We can also compute the vector of betas of the three individual assets with the market, and from that the $\\mu_{CAPM}$ vector given by \\eqref{eq:black_litterman_capm}. We don't make the small adjustment of the covariance matrix to an excess covariance matrix here."
   ]
  },
  {
   "cell_type": "code",
   "execution_count": 20,
   "metadata": {},
   "outputs": [
    {
     "name": "stdout",
     "output_type": "stream",
     "text": [
      "beta = [0.7382 0.4965 1.1108]\n",
      "mu-CAPM= [0.5427 0.3977 0.7661]  bps/day\n"
     ]
    }
   ],
   "source": [
    "betavec=(c @ wmkt)/varmkt\n",
    "print('beta =',betavec)\n",
    "\n",
    "mucapm=np.multiply(10000,rfvec+(mumkt-rfrate)*betavec)\n",
    "print('mu-CAPM=',mucapm,' bps/day')"
   ]
  },
  {
   "cell_type": "markdown",
   "metadata": {},
   "source": [
    "Let us now put in a single opinion, which is that pounds will outperform yen by .2bps/day. The CAPM prior says pounds will underperform yen, so we are going in a different direction. In the notation of \\eqref{eq:black_litterman_views} (and assuming the unknown $\\mu$ vector is in bps/day units) this says\n",
    "$$p=.2$$\n",
    "$$V=\\left( {\\begin{array}{ccc}\n",
    "   0& 1& -1 \\\\\n",
    "  \\end{array} } \\right)$$\n",
    "\n",
    "Let us assume the error of estimate matrix of our views is (in 1/days$^2$ units) $\\Gamma=.0001\\cdot I$, where I is the identity matrix (actually a scalar here since v=1). We'll weight our market beliefs with $s=1$.\n",
    "\n",
    "We can then compute the term\n",
    "$$\\left(\\frac{1}{s}C^{-1}+V^{\\intercal}\\Gamma^{-1}V\\right)^{-1}$$\n",
    "used in \\eqref{eq:black_litterman_overall_mu} and \\eqref{eq:black_litterman_overall_matrices}. We'll compute the term inside the parentheses in days$^2$ units. After inverting we'll multiply by 10000 for display purposes, which converts to (pct/days)$^2$ units. "
   ]
  },
  {
   "cell_type": "code",
   "execution_count": 21,
   "metadata": {},
   "outputs": [
    {
     "name": "stdout",
     "output_type": "stream",
     "text": [
      "C-inverse/s= [[ 35165.3773 -19650.3851 -13151.8981]\n",
      " [-19650.3851  42009.9265  -1411.1725]\n",
      " [-13151.8981  -1411.1725  32335.7129]]\n",
      "V'(Gamma-inverse)V= [[     0.      0.      0.]\n",
      " [     0.  10000. -10000.]\n",
      " [     0. -10000.  10000.]]\n",
      "Sum= [[ 35165.3773 -19650.3851 -13151.8981]\n",
      " [-19650.3851  52009.9265 -11411.1725]\n",
      " [-13151.8981 -11411.1725  42335.7129]]\n",
      "Sum inverse (pct/day)**2= [[0.4979 0.236  0.2183]\n",
      " [0.236  0.3162 0.1586]\n",
      " [0.2183 0.1586 0.3468]]\n"
     ]
    }
   ],
   "source": [
    "#View that pounds will outperform yen\n",
    "view=np.array([0,1,-1])\n",
    "pview=.00002\n",
    "\n",
    "gamma=np.matrix([.0001])\n",
    "sweight=1\n",
    "\n",
    "#First Black-Litterman matrix calculation\n",
    "print('C-inverse/s=',ci/sweight)\n",
    "#Second matrix\n",
    "v1=(np.matrix(view).T) @ np.linalg.inv(gamma)\n",
    "vgvmtrx=v1 @ np.matrix(view)\n",
    "print('V\\'(Gamma-inverse)V=',vgvmtrx)\n",
    "#Sum of the two\n",
    "print('Sum=',ci/sweight+vgvmtrx)\n",
    "\n",
    "m1inv=np.linalg.inv(ci/sweight+vgvmtrx)\n",
    "print('Sum inverse (pct/day)**2=',m1inv*10000)"
   ]
  },
  {
   "cell_type": "markdown",
   "metadata": {},
   "source": [
    "The other terms are $\\frac{1}{s}C^{-1}\\mu_{CAPM}$ and $V^{\\intercal}\\Gamma^{-1}V\\mu_{views}$. Note from \\eqref{eq:black_litterman_views_mu} we have $V^{\\intercal}\\Gamma^{-1}V\\mu_{views}=V^{\\intercal}\\Gamma^{-1}p$:"
   ]
  },
  {
   "cell_type": "code",
   "execution_count": 22,
   "metadata": {},
   "outputs": [
    {
     "name": "stdout",
     "output_type": "stream",
     "text": [
      "C-inverse*muCAPM/s= [0.1192 0.4963 1.7075]\n",
      "V'(Gamma-Inverse)p= [[ 0. ]\n",
      " [ 0.2]\n",
      " [-0.2]]\n",
      "Sum= [[0.1192 0.6963 1.5075]]\n",
      "(All in units of days)\n"
     ]
    }
   ],
   "source": [
    "cimcs=(ci @ (mucapm/sweight))*10**(-4)\n",
    "print('C-inverse*muCAPM/s=',cimcs)\n",
    "\n",
    "print('V\\'(Gamma-Inverse)p=',v1*pview)\n",
    "m2=cimcs+v1.T*pview\n",
    "print('Sum=',m2)\n",
    "print(\"(All in units of days)\")"
   ]
  },
  {
   "cell_type": "markdown",
   "metadata": {},
   "source": [
    "Multiplying the matrix times the vector gives the Black-Litterman estimate $\\mu$ as in \\eqref{eq:black_litterman_overall_mu}:"
   ]
  },
  {
   "cell_type": "code",
   "execution_count": 23,
   "metadata": {},
   "outputs": [
    {
     "name": "stdout",
     "output_type": "stream",
     "text": [
      "Black-Litterman mu (bps/day): [[0.5528]\n",
      " [0.4873]\n",
      " [0.6591]]\n"
     ]
    }
   ],
   "source": [
    "mufinal=(m1inv @ (m2.T))*10000\n",
    "print('Black-Litterman mu (bps/day):',mufinal)"
   ]
  },
  {
   "cell_type": "markdown",
   "metadata": {},
   "source": [
    "After a great deal of calculation, we have modified the $\\mu_{CAPM}$ vector a little: the expected mean pound return has increased and the expected mean yen return has decreased, although not enough to fully implement our opinion that pounds would outperform yen by .2bps. The expected return on Swiss francs has changed a little too, even though we didn't have an opinion about it: this is because of the covariance structure causes our views to propagate through to the entire market.\n",
    "\n",
    "Recall that there were some uncertainty parameters &mdash; the scalar $s$ and the matrix $\\Gamma$ &mdash; that have no obvious calibration process. A Black-Litterman user can adjust them until they give an answer that seems intuitively appealing. The danger is similar to that of overconstraining an optimization &mdash; adjusting a quantitative process until it confirms our qualitative biases.  [Michaud, Esch, and Michaud](https://dx.doi.org/10.2139/ssrn.2641893) captured this concern in the title of their 2013 paper: \"Deconstructing Black-Litterman: How to get the portfolio you already knew you wanted.\"\n",
    "\n",
    "Still, such quantitative methods are not without value. It is more important to listen to what the algorithm is saying than to tell it what to do. For example, understanding what relationships caused the change in the Swiss franc's expected return in our Black-Litterman example might lead to some insight: what is it about the pound's and the yen's relationships with the franc that caused that movement? Is there some relationship between the Swiss, British, and Japanese economies that is being revealed, or is it just a statistical artifact? Pursuing these kinds of questions can lead to better results.\n",
    "\n",
    "Black-Litterman is used by robo-advisers like [Betterment](https://www.betterment.com/resources/betterment-portfolio-strategy/), who determine client risk preferences with questionnaires in order to find the appropriate point along an efficient frontier for that client. The expected values of the portfolio components (which for robo-advisers are index funds or exchange-traded funds) are obtained with a Black-Litterman approach."
   ]
  },
  {
   "cell_type": "markdown",
   "metadata": {},
   "source": [
    "<a name=\"four_footnotes\"></a>\n",
    "# Chapter 4 Footnotes\n",
    "\n",
    "$^1$ Covariance matrices are positive semidefinite by construction, and since we're assuming that $C$ is nonsingular, it's positive definite. So $C^{-1}$ is positive definite, forcing $u^{\\intercal}C^{-1}u$ to be positive. Further, there is a Cholesky factorization $C^{-1}=LL^{\\intercal}$, so the Cauchy-Schwarz inequality applies to the numerator of the $\\lambda_1^2$ term, making it positive too.\n",
    "<br>\n",
    "\n",
    "$^2$ $C_e$ is the covariance matrix of excess returns over the riskfree rate. If the riskfree rate really is riskfree &mdash; i.e. it never varies &mdash; then $C_e=C$. But when we are using sample data over time, the riskfree rate does vary. Practitioners often ignore this and use $C$ in the denominator of the Sharpe Ratio. Since the riskfree rate is often far less variable than the assets forming the frontier, leaving it out of the denominator is usually not much of an omission. However during periods where the riskfree rate is highly variable, the omission can be significant. We used $C$ in the Capital Market Line calculations \\eqref{eq:tangent_portfolio} to \\eqref{eq:tangent_sharpe}, but technically $C_e$ should be used.\n",
    "<br>\n",
    "\n",
    "$^3$In the US, \"mostly\" means [80% or more](https://www.sec.gov/rules/final/ic-24828.htm)\n",
    "<br>\n",
    "\n",
    "$^4$Bouchard, Potters & Aguilar are physicists who now run a quantitative hedge fund in Paris (www.cfm.fr).\n",
    "<br>\n",
    "\n",
    "$^5$Shannon defined his entropy function as a measure of the uncertainty of a probability distribution. A set of portfolio weights satisfying the budget contraint can be thought of as a probability mass function when the weights are constrained to be positive, so Shannon entropy can be applied to positive portfolio weights. For portfolios where negative weights are allowed, modifications of Shannon entropy are required to make the measure sensible. One modification is $\\exp\\left(\\sum_{w_i>0}-w_iln(w_i)\\right)$ which is maximized when there are no short positions and all $w_i=\\frac{1}{n}$. However this introduces inequality constraints when used in an optimization.\n",
    "\n",
    "$^6$ Mahalanobis, P. C. \"On the Generalized Distance in Statistics,\" _Proceedings of National Institute of Sciences (India)_, Vol. 2, No. 1, 1936, pp. 49-55. \n",
    "<br>\n",
    "\n",
    "$^7$ The father-and-son team of Richard and Robert Michaud wrote _Efficient Asset Management: A practical Guide to Stock Portfolio Optimization and Asset Allocation_ in 1998; the second edition is from 2008 and is published by Oxford University Press, ISBN 978-0-19-533191-2."
   ]
  }
 ],
 "metadata": {
  "kernelspec": {
   "display_name": "Python 3 (ipykernel)",
   "language": "python",
   "name": "python3"
  },
  "language_info": {
   "codemirror_mode": {
    "name": "ipython",
    "version": 3
   },
   "file_extension": ".py",
   "mimetype": "text/x-python",
   "name": "python",
   "nbconvert_exporter": "python",
   "pygments_lexer": "ipython3",
   "version": "3.9.12"
  }
 },
 "nbformat": 4,
 "nbformat_minor": 4
}
