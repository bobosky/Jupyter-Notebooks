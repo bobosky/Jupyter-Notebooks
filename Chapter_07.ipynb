{
 "cells": [
  {
   "cell_type": "markdown",
   "metadata": {},
   "source": [
    "# Chapter 7 - Simulation, Scenarios and Stress Testing #\n",
    "&copy; 2021 Kenneth Winston\n",
    "\n",
    "In the previous chapter we saw a variety of distributions that can be used for situations that fall into Knight's [_a priori risk_](#frank_knight) category. If we are confident that a known distribution describes all the outcomes and all the associated probabilities for a set of variables, then we might even be able to get a closed-form description of relevant risk metrics for these variables.\n",
    "\n",
    "But even if that situation obtains, our work isn't done. For financial applications, we'll probably want to know the rate of return of a portfolio. The portfolio could be a mutual fund, hedge fund, or institutional portfolio managed by an asset manager; it could be the positions on a trading desk; or it could be aggregate holdings of a sovereign wealth, pension, or endowment fund belonging to an asset owner.\n",
    "\n",
    "The behavior of a portfolio of securities will be determined by a set of $k$ factors describing the financial and economic state of the world. These factors might come from a factor model like \\eqref{eq:factor_practice}; they might be [key rates](#rolldown_key_rates); or they might just be individual securities. Whatever the inputs are, the sample space of interest will consist of $k$-vectors $\\text{sv}$ (\"state variable(s)\") giving possible future states of the world. Often the convention is that such a state-of-the-world vector is expressed as a change from the current state.\n",
    "\n",
    "Once we have the relevant state-of-the-world variables, we will also need deterministic pricing functions $R_i(\\text{sv})$ that give the rate of return of the $i^{th}$ security in a portfolio one period forward, conditional on state-of-the-world $\\text{sv}$ being realized. Another function is then applied to the individual pricing functions to form a desired statistic at the portfolio level; for example $\\text{Port}(R_1(\\text{sv}),\\dots,R_n(\\text{sv}))=\\ln\\bigl(1+\\sum w_i R_i(\\text{sv})\\bigr)$ would give the portfolio's log-returns where $w$ is the portfolio weight vector.\n",
    "\n",
    "For example, there are four parameters ($\\beta_0$, $\\beta_1$, $\\beta_2$, and $\\tau$) that describe a Nelson-Siegel curve in \\eqref{eq:nelson_siegel}. If we are interested in modeling possible returns on a portfolio of bonds, then we might think that the relevant state-of-the-world sample space consists of 4-vectors giving the possible future values of the four Nelson-Siegel parameters. We might even think we have a state of Knightian Risk with respect to the Nelson-Siegel parameters: we have a good description of their probability distribution. But to value a portfolio of bonds being discounted by such a curve, we'll need to pass the four parameters through the formula \\eqref{eq:nelson_siegel}, and then apply the pricing equation \\eqref{eq:generic_pricing_equation} in order to get a pricing function $R_i(\\text{sv})$ for an individual bond. The portfolio return's response to changes in the four Nelson-Siegel parameters will therefore be highly nonlinear.\n",
    "\n",
    "**`Simulation`** is used in cases where the responses to the state-of-the-world variables are complex. A process is developed to describe the sample space: this can be a closed-form approach, or a random-number generator producing a large number of samples of the state-of-the-world vector. Then, conditional on the future evolving according to the sample draw, the object of interest &mdash; such as a portfolio of bonds discounted by the Nelson-Siegel curve based on the sample parameters &mdash; is valued. The distribution of portfolio results is then analyzed for relevant statistics.\n",
    "\n",
    "We've already described the basic inputs for simulation. They're collected in Table 7.1:\n",
    "\n",
    "| &nbsp; &nbsp; &nbsp; &nbsp; &nbsp; &nbsp; &nbsp; &nbsp; &nbsp; &nbsp; &nbsp; &nbsp; &nbsp; &nbsp; &nbsp; &nbsp; &nbsp; &nbsp; &nbsp; &nbsp; &nbsp; &nbsp; &nbsp; &nbsp; | Table 7.1: Simulation Functions and Datasets |   &nbsp;              |\n",
    "|:----------|:-------------:|:------------------------:|\n",
    "|  Item  | Description |   Type                 |\n",
    "| $\\text{sv}$    | Environmental (state-of-the-world) variables  | k-vector |\n",
    "| $R_i(\\text{sv})$    |  Pricing (rate-of-return) function for $i^{th}$ security | Function |\n",
    "| $\\text{Port}(R_1(\\text{sv}),\\dots,R_n(\\text{sv}))$   |  Composition function forming portfolio-level<br> datum (return/log-return/price) | Function |\n",
    "\n",
    "We have seen this technique already. The short rate models in sections 3.8.2 through 3.8.4 are examples of simulations; they generate a distribution of yield curves that can be used to value fixed income instruments. The resampled efficient frontier in section 4.2.2 is another example. An efficient portfolio is a highly nonlinear function of inputs such as a mean vector, a covariance matrix, and constraints. The resampling process is designed to produce an informative distribution of portfolios from which either a range or a center can be chosen.\n",
    "\n",
    "We can consider these techniques _guided looks into the future_. If the technique is good, then the future that actually does unfold (and futures reasonably like the true one) will be among the outcomes, and their associated probabilities will cause us to plan appropriately.\n",
    "<font color=\"white\">$$\\label{eq:factor_practice}\\tag{5.40}$$\n",
    "$$\\label{eq:generic_pricing_equation}\\tag{3.2}$$\n",
    "$$\\label{eq:nelson_siegel}\\tag{3.14}$$\n",
    "$$\\label{eq:normal_var}\\tag{2.8}$$\n",
    "$$\\label{eq:normal_cvar}\\tag{2.9}$$\n",
    "$$\\label{eq:three_currency_sampcov}\\tag{4.20}$$\n",
    "</font> "
   ]
  },
  {
   "cell_type": "markdown",
   "metadata": {},
   "source": [
    "## 7.1 Historical Simulation\n",
    "\n",
    "Perhaps the simplest way to generate outcomes and probabilities is **`historical simulation`**. In its purest form, this method requires no model other than the empirical history of the securities in our portfolio. The sample space is simply what happened in the past, and the associated probabilities can be totally agnostic &mdash; each historical observation has the same weight &mdash; or weighted according to a model such as: more recent observations are more important than older observations.\n",
    "\n",
    "As we noted in Chapter 4, the most naive forms of historical simulation &mdash; where an analyst simply expects the past to repeat itself &mdash; can be misleading guides to the future. Good judgment is required to find the frontier between the advantages of being model-free and the prediction failures of being too literal.\n",
    "\n",
    "One commonly used version of historical simulation attempts to get the best of both worlds by using factor models for securities. As we saw in Chapter 5, not only do factor models help give better predictions of future behavior; they also help with missing data. For example, a portfolio may contain Snap (SNAP). Snap common stock only started trading in 2017, so an analyst may determine that there isn't enough SNAP history to infer patterns reliably. But SNAP might be modeled as some combination of factors like technology and growth; these factors have long histories and more reliable relationships than do individual securities.\n",
    "\n",
    "We'll think about a historical simulation involving the Swissie, pound, yen example from section 4.1.2, using data going back to 1971. The sample space will simply be all $T$ 3-vectors of (CHF,GBP,JPY) log-returns that were observed in the past, and individual pricing functions will be $R_i(sv)=\\exp(sv_i)-1$, where $sv$ is one of the 3-vectors in the sample space.\n",
    "\n",
    "Suppose that the portfolio of interest is an equal-weighted portfolio of the three currencies, $w=(1/3, 1/3, 1/3)^{\\intercal}$. Let $X$ be the $T\\times3$ matrix whose $(t,i)$ entry is the {(dollars per currency i on day t) divided by (dollars per currency i on day t-1)} minus one. $X$ is the priced sample space. The $T$-vector of log-returns at the portfolio level would be $\\text{Port}(X)=\\ln\\bigl(1+Xw\\bigr)$.\n",
    "\n",
    "The $i^{th}$ observation of the $T$ observations in $\\text{Port}(X)$ is assumed to have a probability $p_t$ of being observed. In this context the time index runs backward so $\\text{Port}(X_1)$ is the most recent observation and $\\text{Port}(X_T)$ is the oldest observation. In the agnostic version where there is no information to prioritize observations, $p_t=\\frac{1}{T}\\enspace\\forall t$.\n",
    "\n",
    "It would be reasonable to assume that going forward, the world will look more like it did last year than it did in 1971. In that case observation distribution $p_t$ (where $p_i\\geq p_j$ when $i\\leq j$) would be appropriate. A common technique is an **`exponentially weighted moving average`**, or **`EWMA`**: the observation probabilities are given by\n",
    "$$p_t=\\frac{2^{-h(t-1)}}{\\sum_{s=0}^{T-1}2^{-hs}}=\\frac{2^{-h(t-1)}(1-2^{-h})}{1-2^{-hT}}\\approx2^{-h(t-1)}(1-2^{-h})\\approx2^{-h(t-1)}\\frac{h\\cdot ln(2)}{1+\\frac{h\\cdot ln(2)}{2}}\\label{eq:ewma_def}\\tag{7.1}$$\n",
    "\n",
    "$h=1/252$ in \\eqref{eq:ewma_def} would be a one year half-life if the observation periodicity was business-daily, since there are about 252 business days in a year. In that case the observations from a year ago would be half as probable as the most recent observation; three years ago would be one eighth as probable.\n",
    "\n",
    "A histogram of the outcomes (equally weighted in time) for the 3-currency portfolio (equally weighted by currency) is shown below. The pattern looks familiar:"
   ]
  },
  {
   "cell_type": "code",
   "execution_count": 3,
   "metadata": {},
   "outputs": [
    {
     "data": {
      "image/png": "[encoded data removed]",
      "text/plain": [
       "<Figure size 432x288 with 1 Axes>"
      ]
     },
     "metadata": {
      "needs_background": "light"
     },
     "output_type": "display_data"
    },
    {
     "name": "stdout",
     "output_type": "stream",
     "text": [
      "╒════════════════════╤═══════════════╕\n",
      "│ Statistic          │         Value │\n",
      "╞════════════════════╪═══════════════╡\n",
      "│ Count              │ 12535         │\n",
      "├────────────────────┼───────────────┤\n",
      "│ Min                │    -0.041114  │\n",
      "├────────────────────┼───────────────┤\n",
      "│ Max                │     0.0516067 │\n",
      "├────────────────────┼───────────────┤\n",
      "│ Mean               │     8.05e-05  │\n",
      "├────────────────────┼───────────────┤\n",
      "│ Median             │     1.82e-05  │\n",
      "├────────────────────┼───────────────┤\n",
      "│ Standard Deviation │     0.0051873 │\n",
      "├────────────────────┼───────────────┤\n",
      "│ Skewness           │     0.240489  │\n",
      "├────────────────────┼───────────────┤\n",
      "│ Excess Kurtosis    │     4.73951   │\n",
      "├────────────────────┼───────────────┤\n",
      "│ Jarque-Bera        │ 11853         │\n",
      "├────────────────────┼───────────────┤\n",
      "│ Chi-Squared p      │     0         │\n",
      "├────────────────────┼───────────────┤\n",
      "│ Serial Correlation │     0.0257438 │\n",
      "├────────────────────┼───────────────┤\n",
      "│ 99% VaR            │     0.0132452 │\n",
      "├────────────────────┼───────────────┤\n",
      "│ 99% cVaR           │     0.0171456 │\n",
      "╘════════════════════╧═══════════════╛\n",
      "Portfolio cumulative return: 1.3168648354191248\n",
      "Portfolio annual return: 0.01729510089551245\n"
     ]
    }
   ],
   "source": [
    "%matplotlib inline\n",
    "import pandas as pd\n",
    "import qrpm_funcs as qf\n",
    "import numpy as np\n",
    "import matplotlib.pyplot as plt\n",
    "from tabulate import tabulate\n",
    "import scipy.stats as spst\n",
    "#Get 3 currencies until the end of\n",
    "#previous year. Form sample covariance matrix\n",
    "#and do simple efficient frontier calculations\n",
    "\n",
    "lastday=qf.LastYearEnd()\n",
    "#Swiss franc, pound sterling, Japanese Yen\n",
    "seriesnames=['DEXSZUS','DEXUSUK','DEXJPUS']\n",
    "cdates,ratematrix=qf.GetFREDMatrix(seriesnames,enddate=lastday)\n",
    "multipliers=[-1,1,-1]\n",
    "\n",
    "lgdates,difflgs=qf.levels_to_log_returns(cdates,ratematrix,multipliers)\n",
    "\n",
    "#Mean vector and covariance matrix are inputs to efficient frontier calculations\n",
    "d=np.array(difflgs)\n",
    "m=np.mean(d,axis=0)\n",
    "c=np.cov(d.T)\n",
    "\n",
    "#Show histogram of equal-weighted\n",
    "#CHF-GBP-JPY log-changes\n",
    "w=np.array([1/3]*3).T\n",
    "#apply transform to get returns at portfolio level\n",
    "portfolio=np.log(1+np.dot(np.exp(difflgs)-1,w))\n",
    "\n",
    "#portfolio now contains the equal-weighted portfolio's\n",
    "#log-returns. Create buckets - hist function doesn't\n",
    "#seem to have \"x or less\" or \"x or more\" buckets\n",
    "bucketnames=[]\n",
    "bucketcounts=[]\n",
    "#Bucket the end percentiles\n",
    "low1=np.percentile(portfolio,1)\n",
    "high1=np.percentile(portfolio,99)\n",
    "bucketnames.append('<=%7.4f' % low1)\n",
    "bucketcounts.append(sum(1 for x in portfolio if low1 >= x))\n",
    "#Count 20 even buckets in between low and high\n",
    "nbucket=20\n",
    "bucketwidth=(high1-low1)/nbucket\n",
    "for i in range(20):\n",
    "    attach=low1+i*bucketwidth\n",
    "    detach=attach+bucketwidth\n",
    "    mid=(attach+detach)/2\n",
    "    bucketnames.append('%7.4f' % mid)\n",
    "    bucketcounts.append(sum(1 for x in portfolio if (x>=attach and x<=detach)))\n",
    "\n",
    "#last bucket\n",
    "bucketnames.append('>=%7.4f' % high1)\n",
    "bucketcounts.append(sum(1 for x in portfolio if x >= high1))\n",
    "\n",
    "width=.5\n",
    "plt.bar(range(nbucket+2),bucketcounts,width)\n",
    "plt.xticks(range(nbucket+2),bucketnames,rotation='vertical')\n",
    "plt.grid()\n",
    "plt.ylabel('Day count')\n",
    "plt.title('Figure 7.1: Histogram of equal-weighted CHF+GBP+JPY\\n daily log-changes, '+ \\\n",
    "          lgdates[0][:4]+'-'+lastday[:4])\n",
    "plt.show();\n",
    "    \n",
    "statnames,metrics,table=qf.StatsTable(np.exp(portfolio)-1)\n",
    "headers=['Statistic','Value']\n",
    "print(tabulate(table, headers, tablefmt='fancy_grid'))\n",
    "\n",
    "port_log_ret=0\n",
    "for t in range(len(d)):\n",
    "    port_log_ret+=np.log(np.mean(np.exp(d[t,:])))\n",
    "print('Portfolio cumulative return:',np.exp(port_log_ret)-1)\n",
    "print('Portfolio annual return:',np.exp(port_log_ret/int(len(d)/252))-1)"
   ]
  },
  {
   "cell_type": "markdown",
   "metadata": {},
   "source": [
    "The statistics table is based on daily portfolio returns. So a very simple look into the future of an equally weighted portfolio of Swissies, pounds and yen tells us that IF we expect the future to be like the historical record since 1971, we will be drawing log-returns from the distribution shown in Figure 7.1 that looks normal at first glance, but is actually fat-tailed.\n",
    "\n",
    "As it turns out the daily-rebalanced equal-weighted portfolio would have made a profit &mdash; more than doubling since 1971. If an analyst has no model of expected returns and is just looking to estimate higher (second and above) moments, then quite often the historical mean is ignored or set to zero.\n",
    "\n",
    "This example's mean is typical of short-term financial data in that it is negligible compared to the volatility. Over longer periods such as a year, the mean may not be negligible. That's because when there isn't too much serial correlation, the mean scales linearly with time, while standard deviation scales as the square root of time."
   ]
  },
  {
   "cell_type": "markdown",
   "metadata": {},
   "source": [
    "## 7.2 Delta-Normal\n",
    "\n",
    "A second common method for generating future distributions is **`delta-normal`**. This method assumes that input variables &mdash; rates of return[$^1$](#seven_footnotes) of the three currencies in our example &mdash; will follow a multivariate normal distribution. Often the mean of the multivariate normal is assumed to be zero; as noted above, for short periodicities the mean is usually negligible compared to the higher moments.\n",
    "\n",
    "The delta-normal method starts by mapping portfolio holdings into the appropriate exposure vector $w$. As with the historical example, this vector may simply be a vector of weights of the securities in the portfolio, with an associated covariance matrix $C$. A \\eqref{eq:factor_practice}-type model $C=B^{\\intercal}FB+D$ is often assumed.\n",
    "\n",
    "For large institutional portfolios, the security-specific variance matrix $D$ in \\eqref{eq:factor_practice} may be ignored. This is because in the quadratic form $w^{\\intercal}Dw$, only the squares of security weights appear. In a large portfolio, it is unlikely that any one security occupies more than a few percent. Squaring a few percent gets down to basis points. Further, if the factor model is well-specified, the entries of $D$ are small. This is basically the argument that was made in the development of the [Arbitrage Pricing Theory](#arbitrage_pricing) in Chapter 5.\n",
    "\n",
    "Thus a vector of security weights $w$ can be mapped into factor loadings $b=B^{\\intercal}w$, where $B$ is the factor loading matrix in \\eqref{eq:factor_practice}. In that case the associated covariance matrix is the $F$ in \\eqref{eq:factor_practice}.\n",
    "\n",
    "Generally if $x$ is an asset and $f$ is a factor that might affect $x$, $\\delta_f(x)=\\frac{\\partial x}{\\partial f}$. That is, the Greek letter $\\delta$ (delta) is generally used to denote the first-order sensitivity of an asset to a factor. In the delta-normal method, the deltas of more complex securities like options are added in to the exposure vector.\n",
    "\n",
    "Thus in the delta-normal method, the appropriate statistics can be formed directly without Monte Carlo simulation. Say $e$ is the exposure n-vector (either a security weight vector $w$ or a factor exposure vector $b$), and $M$ is the associated covariance matrix. Then the variance of the distribution of portfolio outcomes is $e^{\\intercal}Me$ and the standard deviation is $\\sigma=\\sqrt{e^{\\intercal}Me}$.\n",
    "\n",
    "The Value at Risk at probability $p$ is $v=-(\\mu+\\sigma*Norm^{-1}(1-p))$ as in \\eqref{eq:normal_var}. At $p=99%$, that's $2.326\\sigma$. The cVaR (= Expected Shortfall since Norm is continuous) (expressed as a loss amount) is\n",
    "$$-\\mu+\\frac{\\sigma}{(1-p)\\sqrt{2\\pi}}\\exp\\bigl(\\frac{-v^2}{2\\sigma^2}\\bigr)$$\n",
    "as in \\eqref{eq:normal_cvar}.\n",
    "\n",
    "The code in the next cell draws the histogram directly from the multivariate normal distribution, and generates the statistics table under the delta-normal assumption. The mean from the historical data has been used in order to make the statistics more directly comparable; in practice as noted above a zero mean might be assumed."
   ]
  },
  {
   "cell_type": "code",
   "execution_count": 10,
   "metadata": {},
   "outputs": [
    {
     "data": {
      "image/png": "[encoded data removed]",
      "text/plain": [
       "<Figure size 432x288 with 1 Axes>"
      ]
     },
     "metadata": {
      "needs_background": "light"
     },
     "output_type": "display_data"
    },
    {
     "name": "stdout",
     "output_type": "stream",
     "text": [
      "╒════════════════════╤════════════════╕\n",
      "│ Statistic          │          Value │\n",
      "╞════════════════════╪════════════════╡\n",
      "│ Count              │ 12535          │\n",
      "├────────────────────┼────────────────┤\n",
      "│ Min                │    -0.0195061  │\n",
      "├────────────────────┼────────────────┤\n",
      "│ Max                │     0.019667   │\n",
      "├────────────────────┼────────────────┤\n",
      "│ Mean               │     8.05e-05   │\n",
      "├────────────────────┼────────────────┤\n",
      "│ Median             │     8.05e-05   │\n",
      "├────────────────────┼────────────────┤\n",
      "│ Standard Deviation │     0.00518749 │\n",
      "├────────────────────┼────────────────┤\n",
      "│ Skewness           │     0          │\n",
      "├────────────────────┼────────────────┤\n",
      "│ Excess Kurtosis    │     0          │\n",
      "├────────────────────┼────────────────┤\n",
      "│ Jarque-Bera        │     0          │\n",
      "├────────────────────┼────────────────┤\n",
      "│ Chi-Squared p      │     1          │\n",
      "├────────────────────┼────────────────┤\n",
      "│ Serial Correlation │     0          │\n",
      "├────────────────────┼────────────────┤\n",
      "│ 99% VaR            │     0.0119874  │\n",
      "├────────────────────┼────────────────┤\n",
      "│ 99% cVaR           │     0.0142517  │\n",
      "╘════════════════════╧════════════════╛\n"
     ]
    }
   ],
   "source": [
    "# get count\n",
    "count=metrics[0]\n",
    "#Transform logs to return space\n",
    "x_returns=np.array(np.exp(difflgs)-1)\n",
    "m_returns=np.mean(x_returns,axis=0)\n",
    "c_returns=np.cov(x_returns.T)\n",
    "# compute mean and std deviation directly from m and c\n",
    "port_mean=np.dot(m_returns,w)\n",
    "port_std=np.sqrt(np.matmul(np.matmul(w,c_returns),w))\n",
    "\n",
    "#Redo histogram with normal assumption\n",
    "\n",
    "bucketcounts=[]\n",
    "bucketnames=[]\n",
    "#Bucket the end percentiles\n",
    "low1=port_mean+port_std*spst.norm.ppf(.01)\n",
    "high1=port_mean+port_std*spst.norm.ppf(.99)\n",
    "bucketwidth=(high1-low1)/nbucket\n",
    "bucketcounts.append(spst.norm.cdf((low1-port_mean)/port_std)*count)\n",
    "bucketnames.append('<=%7.4f' % low1)\n",
    "for i in range(nbucket):\n",
    "    attach=low1+i*bucketwidth\n",
    "    detach=attach+bucketwidth\n",
    "    mid=(attach+detach)/2\n",
    "    bucketnames.append('%7.4f' % mid)\n",
    "    bucketcounts.append(spst.norm.pdf((mid-port_mean)/port_std)*count)\n",
    "\n",
    "#last bucket\n",
    "bucketcounts.append((1-spst.norm.cdf((high1-port_mean)/port_std))*count)\n",
    "bucketnames.append('>=%7.4f' % high1)\n",
    "\n",
    "width=.5\n",
    "plt.bar(range(nbucket+2),bucketcounts,width)\n",
    "plt.xticks(range(nbucket+2),bucketnames,rotation='vertical')\n",
    "plt.grid()\n",
    "plt.ylabel('Day count')\n",
    "plt.title('Figure 7.2: Histogram, delta-normal')\n",
    "plt.show();\n",
    "\n",
    "#Delta-normal calculations - redo the stats table\n",
    "table_norm=np.copy(table)\n",
    "#min\n",
    "table_norm[1][1]=str(port_mean+spst.norm.ppf(1/(count+1))*port_std)\n",
    "#max\n",
    "table_norm[2][1]=str(port_mean+spst.norm.ppf(count/(count+1))*port_std)\n",
    "#mean - should be the same\n",
    "table_norm[3][1]='%7.7f' % port_mean\n",
    "#median - make it equal the mean because normal\n",
    "table_norm[4][1]=table_norm[3][1]\n",
    "#standard deviation - use sqrt(w'Cw)\n",
    "table_norm[5][1]=str(port_std)\n",
    "#skewness - zero because normal\n",
    "table_norm[6][1]=\"0\"\n",
    "#excess kurtosis - zero because normal\n",
    "table_norm[7][1]=\"0\"\n",
    "#Jarque-Bera - zero because normal\n",
    "table_norm[8][1]=\"0\"\n",
    "#Chi-squared - one because normal\n",
    "table_norm[9][1]=\"1\"\n",
    "#Serial correlation - zero by assumption\n",
    "table_norm[10][1]=\"0\"\n",
    "#99% VaR - from formula\n",
    "p=.99\n",
    "norm_VaR=-(port_mean+spst.norm.ppf(1-p)*port_std)\n",
    "table_norm[11][1]=str(norm_VaR)\n",
    "#99% cVar - from formula\n",
    "norm_cVaR=port_std*np.exp(-.5*(norm_VaR/port_std)**2)\n",
    "norm_cVaR/=(1-p)*np.sqrt(2*np.pi)\n",
    "norm_cVaR=-port_mean+norm_cVaR\n",
    "table_norm[12][1]=str(norm_cVaR)\n",
    "print(tabulate(table_norm, headers, tablefmt='fancy_grid'))"
   ]
  },
  {
   "cell_type": "markdown",
   "metadata": {},
   "source": [
    "Figure 7.2 looks generally similar to Figure 7.1, but 7.2 falls off at the tails while 7.1 has extra probability at the two extremes as a result of its leptokurtosis.\n",
    "\n",
    "Note that the standard deviations of the historical simulation and the delta-normal method agree to four decimal places. Of course that's not a coincidence: if $X$ is the $T\\times3$ matrix of daily returns of the three currencies, then the covariance matrix in \\eqref{eq:three_currency_sampcov} was $C=(X-JX/T)^{\\intercal}(X-JX/T)/T$ where $J$ is the $T\\times T$ matrix of all ones. The delta-normal calculation of standard deviation was $\\sigma_{delta-normal}=\\sqrt{w^{\\intercal}Cw}$.\n",
    "\n",
    "The historical simulation's standard deviation was obtained by forming the $T$-vector $r=(X-JX/T)^{\\intercal}w$, and then taking its sample standard deviation $\\sigma_{historical}=r^{\\intercal}r/T$. So $\\sigma_{delta-normal}=\\sigma_{historical}$ to within the precision of the calculation.\n",
    "\n",
    "While the delta-normal method doesn’t give a realistic picture of tail risk, it has a great advantage: the **`Euler Rule`**[$^2$](#seven_footnotes) can be applied. This decomposes overall standard deviation into its component parts.\n",
    "\n",
    "It works like this: let $f(x)$ be a positive homogeneous and continuously differentiable scalar function of an $n$-vector $x=(x_1,\\dots,x_n)$. Positive homogeneity of scalar degree $k$ means that $f(zx)=z^k f(x)$ for all real scalar $z>0$. If $f(x)$ is such a function, the Euler Rule states that\n",
    "$$k\\cdot f(x)=\\sum_{i=1}^n x_i \\frac{\\partial f}{\\partial{x_i}}(x)=x^{\\intercal}(\\nabla f(x))\\label{eq:euler_rule}\\tag{7.2}$$\n",
    "$\\nabla f(x)=(\\frac{\\partial f}{\\partial{x_1}}(x),\\dots,\\frac{\\partial f}{\\partial{x_n}}(x))^{\\intercal}$ is the gradient vector of $x$.\n",
    "\n",
    "We know from the discussion of [coherent risk measures](#coherent_risk) that standard deviation $\\sigma(w)=\\sqrt{w^{\\intercal} Cw}$ is positive homogenous with $k=1$. The gradient of standard deviation is $g=\\nabla \\sigma=\\frac{1}{\\sigma(w)}Cw$. Applying \\eqref{eq:euler_rule} decomposes standard deviation into the influences of each component:\n",
    "$$\\sigma(w)=w^{\\intercal}g\\label{eq:euler_std}\\tag{7.3}$$\n",
    "The right-hand side of \\eqref{eq:euler_std} is a vector dot product – the vector version of the Euler decomposition in \\eqref{eq:euler_rule}. The $i^{th}$ summand ($i=1$ to $n$) in the dot product is $w_i g_i$, the contribution of the $i^{th}$ element to the overall delta-normal standard deviation.\n",
    "\n",
    "Computing these quantities for the 3-currency example gives the following:"
   ]
  },
  {
   "cell_type": "code",
   "execution_count": 11,
   "metadata": {},
   "outputs": [
    {
     "name": "stdout",
     "output_type": "stream",
     "text": [
      "Gradient (bps/day): [0.00621164 0.0045982  0.00475264]\n",
      "Contributions to Std Dev: [0.00207055 0.00153273 0.00158421]\n"
     ]
    }
   ],
   "source": [
    "#Compute gradient\n",
    "port_gradient=np.matmul(c_returns,w)/port_std\n",
    "print('Gradient (bps/day):',port_gradient)\n",
    "print('Contributions to Std Dev:',port_gradient*w)"
   ]
  },
  {
   "cell_type": "markdown",
   "metadata": {},
   "source": [
    "The Swissie is the biggest contributer to standard deviation. If an analyst expects one of the other currencies to outperform Swissies, some weight could be shifted from Swissies to that other currency, giving a win-win. Such a move would increase expected return while lowering expected risk. This works on the margin, but large changes in weights require a reassessment of overall risk.\n",
    "\n",
    "This framework helps with risk/reward decisions. In more complex covariance matrices, there might be some items with a negative contribution $w_i g_i$ to overall standard deviation; those are diversifiers. If an analyst expects that a diversifier is going to generate more return than items with positive contributions, increasing the exposure to the diversifier will produce more expected return while reducing risk."
   ]
  },
  {
   "cell_type": "markdown",
   "metadata": {},
   "source": [
    "### 7.2.1 The Cornish-Fisher Expansion\n",
    "\n",
    "One way of correcting the delta-Normal approach's underestimation of tail risk is to adjust statistics like Value at Risk with a **`Cornish-Fisher expansion`**. In the delta-Normal approach, VaR is simply $z\\sigma$, where $\\sigma$ is standard deviation and $z=Norm^{-1}(p)$; e.g. $z=2.326$ when $p=.99$. We saw, however that Historical Simulation VaR was higher than delta-Normal VaR, meaning the empirical $z$ multiple was bigger than the Gaussian $z$.\n",
    "\n",
    "The Cornish-Fisher expansion (from a [1937 paper by E. A. Cornish & R. A. Fisher](https://doi.org/10.2307%2F1400905)) is essentially a Taylor series that takes into account moments of the distribution beyond the second moment to get a better estimate of the multiplier $z$. Taking into account the skewness and kurtosis terms gives\n",
    "$$z_{new}=z-\\frac{1}{6}(z^2-1)m_3+\\frac{z}{24}(z^2-3)m_4-\\frac{z}{36}(2z^2-6)m_3^2\\label{eq:cornish_fisher}\\tag{7.4}$$\n",
    "Here $m_3$ is skewness and $m_4$ is (excess) kurtosis. For a normal distribution skewness and excess kurtosis are zero, so the Cornish-Fisher adjustment makes no change in that case.\n",
    "\n",
    "[Maillard 2012](https://dx.doi.org/10.2139/ssrn.1997178) pointed out that the expansion only works in a certain range of skewness and kurtosis parameters. The absolute value of skewness must be outside a middle range, as shown:\n",
    "$$6(\\sqrt{2}-1)\\geq|m_3|,\\enspace6(\\sqrt{2}+1)\\leq|m_3|\\label{eq:cornish_skewness}\\tag{7.5}$$\n",
    "So $|m_3|$ must be less that about $2.485$, or greater than about $14.485$. The top range &mdash; where skewness is greater than $14.485$ &mdash; is generally beyond repair by a simple adjustment. So the main applicability of Cornish-Fisher is in the lower range of skewness.\n",
    "\n",
    "Kurtosis must be between the two roots of a quadratic:\n",
    "$$4(1+11s^2-\\sqrt{s^4-6s^2+1})\\leq m_4\\leq4(1+11s^2+\\sqrt{s^4-6s^2+1})\\label{eq:cornish_kurtosis}\\tag{7.6}$$\n",
    "where $s=m_3/6$. Thus when $s=0$, kurtosis must be between 0 and 8.\n",
    "\n",
    "Figure 7.3 shows the valid parameter area for Cornish-Fisher in the lower range of skewness. Excess kurtosis is on the vertical axis; skewness is on the horizontal axis:"
   ]
  },
  {
   "cell_type": "code",
   "execution_count": 12,
   "metadata": {},
   "outputs": [
    {
     "data": {
      "image/png": "[encoded data removed]",
      "text/plain": [
       "<Figure size 432x288 with 1 Axes>"
      ]
     },
     "metadata": {
      "needs_background": "light"
     },
     "output_type": "display_data"
    }
   ],
   "source": [
    "#Draw Cornish-Fisher admissability graph\n",
    "stepsize=12*(np.sqrt(2)-1)/100\n",
    "x=np.arange(-50*stepsize+.0001,\n",
    "            50*stepsize,stepsize)\n",
    "y1=[4*(1+11*(x/6)**2+np.sqrt((x/6)**4-6*(x/6)**2+1))][0]\n",
    "y2=[4*(1+11*(x/6)**2-np.sqrt((x/6)**4-6*(x/6)**2+1))][0]\n",
    "x=np.append(x,50*stepsize)\n",
    "y1=np.append(y1,4*(1+11*(x[100]/6)**2))\n",
    "y2=np.append(y2,4*(1+11*(x[100]/6)**2))\n",
    "plt.plot(x,y1)\n",
    "plt.plot(x,y2)\n",
    "plt.fill_between(x,y1,y2,facecolor='green')\n",
    "plt.xlabel('Skewness')\n",
    "plt.ylabel('Excess Kurtosis')\n",
    "plt.title('Figure 7.3: Allowed parameter combinations for Cornish-Fisher')\n",
    "plt.grid()\n",
    "plt.show();"
   ]
  },
  {
   "cell_type": "markdown",
   "metadata": {},
   "source": [
    "Applying \\eqref{eq:cornish_fisher} to the Historical Simulation data above, we get the following:"
   ]
  },
  {
   "cell_type": "code",
   "execution_count": 13,
   "metadata": {},
   "outputs": [
    {
     "name": "stdout",
     "output_type": "stream",
     "text": [
      "Normal 99 pct z:  2.32635\n",
      "Cornish-Fisher:  3.25941\n",
      "Historical:  2.58587\n",
      "\n",
      "Normal 99 pct VaR:  0.01199\n",
      "Cornish-Fisher VaR:  0.01683\n",
      "Historical VaR:  0.01333\n"
     ]
    }
   ],
   "source": [
    "#Compute new z-score using 7.4\n",
    "z=spst.norm.ppf(p)\n",
    "znew=z-(1/6)*(z**2-1)*spst.skew(portfolio)\n",
    "znew+=(z/24)*(z**2-3)*spst.kurtosis(portfolio)\n",
    "znew-=(z/36)*(2*z**2-5)*spst.skew(portfolio)**2\n",
    "print_str='Normal %2.f pct' % np.multiply(p,100.)\n",
    "print_str+=\" z: %8.5f\" % z\n",
    "print(print_str)\n",
    "print('Cornish-Fisher: %8.5f' % znew)\n",
    "#Compare with historical\n",
    "hs_99VaR=-np.percentile(portfolio,1)\n",
    "zhist=(hs_99VaR+port_mean)/port_std\n",
    "print('Historical: %8.5f' % zhist)\n",
    "\n",
    "#Show comparisons of VaRs\n",
    "print_str='\\nNormal %2.f pct' % np.multiply(p,100.)\n",
    "print_str+=\" VaR: %8.5f\" % norm_VaR\n",
    "print(print_str)\n",
    "cf_99VaR=-port_mean+znew*port_std\n",
    "print('Cornish-Fisher VaR: %8.5f' % cf_99VaR)\n",
    "print('Historical VaR: %8.5f' % hs_99VaR)"
   ]
  },
  {
   "cell_type": "markdown",
   "metadata": {},
   "source": [
    "So in this case, the Cornish-Fisher expansion overcorrects, giving a more conservative Value at Risk than the one that arose from historical experience."
   ]
  },
  {
   "cell_type": "markdown",
   "metadata": {},
   "source": [
    "## 7.3 Monte Carlo Simulation\n",
    "\n",
    "A third technique for generating distributions of portfolio outcomes is the **`Monte Carlo`** method. Monte Carlo is a reference to the [casinos in Monaco](https://www.montecarlosbm.com/en/casino-monaco), and indicates that a large number of random trials are generated to form a sample distribution. To illustrate this, we'll start with a delta-normal model but then will add complexity.\n",
    "\n",
    "Suppose then that we have an $n\\times n$ covariance matrix $M$ and an exposure $n$-vector $e$ for a portfolio. We want to draw an $n$-vector of factor (or security returns) from the multivariate normal distribution with covariance matrix $M$.\n",
    "To do this, we must **`Cholesky factor`** $M$:\n",
    "$$M=LL^{\\intercal}\\text{  where }L\\text{ is lower triangular}\\label{eq:cholesky_factor}\\tag{7.10}$$\n",
    "If $M$ is positive semidefinite, then such a factorization is possible.\n",
    "\n",
    "The algorithm for Cholesky factorization is straightforward. The lower triangular Cholesky factor of the 3-currency covariance matrix \\eqref{three_currency_sampcov} is computed here:"
   ]
  },
  {
   "cell_type": "code",
   "execution_count": 14,
   "metadata": {},
   "outputs": [
    {
     "name": "stdout",
     "output_type": "stream",
     "text": [
      "(7.11) Cholesky decomposition of 3-currency sample covariance matrix:\n",
      " [[0.71205436 0.         0.        ]\n",
      " [0.34193221 0.49007727 0.        ]\n",
      " [0.30361491 0.0228756  0.5618774 ]]\n"
     ]
    }
   ],
   "source": [
    "#Show the Cholesky decomposition\n",
    "#of the CHF-GPB-JPY covariance matrix\n",
    "chol=np.linalg.cholesky(c_returns)\n",
    "print('(7.11) Cholesky decomposition of 3-currency sample'+ \\\n",
    "      ' covariance matrix:\\n',chol*100)"
   ]
  },
  {
   "cell_type": "markdown",
   "metadata": {},
   "source": [
    "<font color=\"white\">$$\\label{eq:cholesky_sampcov}\\tag{7.11}$$</font>\n",
    "To generate vectors drawn from a multivariate normal distribution with covariance $M$, the Monte Carlo process starts by generating n-vectors $s_j$ ($j=1$ to $T$, where $T$ the number of Monte Carlo trials desired) of independent draws from a standard (mean 0, standard deviation 1) normal distribution. Each $s_j$ consists of $n$ scalars each drawn independently from a standard normal distribution.\n",
    "\n",
    "The vector $r_j=Ls_j$ is a draw from a multivariate normal with the desired covariance structure. This is because\n",
    "$$\\mathbb{E}[r_jr_j^{\\intercal}]=\\mathbb{E}[Ls_js_j^{\\intercal}L^{\\intercal}]=L\\mathbb{E}[s_js_j^{\\intercal}]L^{\\intercal}=LL^{\\intercal}=M\\label{eq:cholesky_expectation}\\tag{7.12}$$\n",
    "\n",
    "We run $T$ trials (where $T$ is the number of days in the currency dataset), generating 3-vectors $s_1,\\dots,s_T$. We form draws $r_i=Ls_i$. These return-vector draws are then dotted with the weight vector $w=(1/3, 1/3, 1/3)$ to generate $T$ rates of return."
   ]
  },
  {
   "cell_type": "code",
   "execution_count": 15,
   "metadata": {},
   "outputs": [
    {
     "name": "stdout",
     "output_type": "stream",
     "text": [
      "╒════════════════════╤═══════════════╕\n",
      "│ Statistic          │         Value │\n",
      "╞════════════════════╪═══════════════╡\n",
      "│ Count              │ 12535         │\n",
      "├────────────────────┼───────────────┤\n",
      "│ Min                │    -0.0201066 │\n",
      "├────────────────────┼───────────────┤\n",
      "│ Max                │     0.0212426 │\n",
      "├────────────────────┼───────────────┤\n",
      "│ Mean               │     6.56e-05  │\n",
      "├────────────────────┼───────────────┤\n",
      "│ Median             │     7.93e-05  │\n",
      "├────────────────────┼───────────────┤\n",
      "│ Standard Deviation │     0.0052211 │\n",
      "├────────────────────┼───────────────┤\n",
      "│ Skewness           │    -0.0029845 │\n",
      "├────────────────────┼───────────────┤\n",
      "│ Excess Kurtosis    │     0.0323636 │\n",
      "├────────────────────┼───────────────┤\n",
      "│ Jarque-Bera        │     0.565658  │\n",
      "├────────────────────┼───────────────┤\n",
      "│ Chi-Squared p      │     0.753649  │\n",
      "├────────────────────┼───────────────┤\n",
      "│ Serial Correlation │     0.0005084 │\n",
      "├────────────────────┼───────────────┤\n",
      "│ 99% VaR            │     0.0119505 │\n",
      "├────────────────────┼───────────────┤\n",
      "│ 99% cVaR           │     0.0139472 │\n",
      "╘════════════════════╧═══════════════╛\n"
     ]
    }
   ],
   "source": [
    "#Generate random draws; use fixed seed to be replicable\n",
    "seed=np.random.seed(12345678)\n",
    "s_trial=np.random.normal(0,1,size=[int(count),3])\n",
    "logr_trial=np.matmul(chol,s_trial.T).T+m\n",
    "\n",
    "#logr_trial has Monte Carlo log-returns; transform to returns\n",
    "r_trial=np.exp(logr_trial)-1\n",
    "\n",
    "#Get trial portfolio returns\n",
    "r_ptrial=np.matmul(r_trial,w)\n",
    "statnames,mettrial,tabtrial=qf.StatsTable(r_ptrial)\n",
    "print(tabulate(tabtrial, headers, tablefmt='fancy_grid'))"
   ]
  },
  {
   "cell_type": "markdown",
   "metadata": {},
   "source": [
    "These statistics are close to the statistics from the delta-normal method. There are some subtleties of the sampling distributions &mdash; even though we generated future outcomes by using draws from a normal distribution, there is some variation in what we will observe. For example, the skewness and kurtosis were not exactly zero in our sample, although they are zero in a true normal distribution. The standard deviation was slightly different.\n",
    "\n",
    "The artificial future we generated using simple Monte Carlo looked a lot like the artificial future we generated using delta-normal, and the reasons for the differences are well understood. Sampling error is limited and can be made smaller simply by running more trials. We're not going to learn anything very interesting this way. For example, if we have derivatives or other complex instruments in our portfolio, Monte Carlo-ing a delta-normal approach will not help us to understand when the derivatives may provide protection or when they may blow up. Instead we'll just see the linear projection of the derivative onto its underlying factors via its deltas.\n",
    "\n",
    "The true power of the Monte Carlo approach comes in applying a full valuation to every instrument in the portfolio. In full generality &mdash; as described at the beginning of this chapter &mdash; we have a $k$-vector $\\text{sv}$ of state variables that describe the general financial and economic state of the world, or at least the parts of the world that are relevant to our portfolio.\n",
    "\n",
    "In a full Monte Carlo approach, we first generate $T$ draws of the state variable vector $\\text{sv}$. While the most common way to generate these draws is to sample from a multivariate normal distribution, distributions like Student's T or a mixture of normals are also widely used.\n",
    "\n",
    "A series of transformations and back-transformations might be applied to the state variables. For example, suppose we think there is significant serial correlation so that $\\text{sv}_{i,t}=a_i\\text{sv}_{i,t-1}+\\epsilon_{i,t}$, where $\\epsilon_{i,t}$ is a draw from a normal distribution that is independent of any previous $\\epsilon_{i,s}$, $s<t$. In that case we would form the time series $\\text{sv}_{i,t}-a_i\\text{sv}_{i,t-1}=\\epsilon_{i,t}$ and estimate $\\epsilon_{i,t}$'s volatility and relationships with other transformed state variables. We would then Cholesky factor the state variable covariance matrix as in \\eqref{eq:cholesky_factor}, and draw $T$ values of $\\epsilon_{i,t+1}$ from a multivariate normal distribution that included the other transformed state variables. Of course other multivariate distributions could be used, and relationships could be captured by a copula function rather than a covariance matrix as described in Chapter 9.\n",
    "\n",
    "When a vector of transformed state variables has been produced, a back-transformation (in our example, $\\text{sv}_{i,t+1}=a_i\\text{sv}_{i,t}+\\epsilon_{i,t+1}$) is applied to get the right inputs for the pricing functions $R_i(\\text{sv})$ $(i=1,\\dots,n)$ shown in Table 7.1.\n",
    "\n",
    "As noted above, these pricing functions give the rates of return of each instrument given the state variable changes in $\\text{sv}$. The pricing functions may have nonlinear or other complex aspects. They may even use their own Monte Carlo simulations based on variables that are different from the portfolio-wide state variables in $\\text{sv}$.\n",
    "\n",
    "The final step in Monte Carlo simulation is aggregation of individual prices (or rates of return) to an overall portfolio price, rate of return, or other statistic such as a log-return. The resulting distribution of portfolio prices, returns, or log-returns can be used to judge risk and reward. Sample statistics like mean, standard deviation, and expected shortfall can be computed, or we can just map the distribution and see if it has an acceptable shape."
   ]
  },
  {
   "cell_type": "markdown",
   "metadata": {},
   "source": [
    "### 7.3.1 Delta-Gamma, Delta-Gamma-Theta Simulations\n",
    "\n",
    "The detailed Monte Carlo process we just described can be difficult to implement fully. Even when the resources are available to gather all the requisite data and to code all the requisite algorithms, the time required to run all the simulations can be prohibitive. An institution requiring daily risk assessments may have difficulty completing all the calculations between the close of yesterday's markets and the open of today's markets, and an institution requiring continuously updated risk assessment may find the task hopeless.\n",
    "\n",
    "We've seen that delta-normal simulations, which are usually computationally tractable, can oversimplify. We've noted that detailed Monte Carlo simulations can take too many resources and too much time. Compromises between these extremes use more terms of a Taylor series in an attempt to tune the tradeoff between speed and power.\n",
    "\n",
    "A **`delta-gamma`** simulation includes both first and second-order terms in the pricing functions. For a multivariate simulation, that means that a **`Hessian matrix`** of mixed partial derivatives must be estimated for every instrument. The $(i,j)$ entry of the Hessian $\\Gamma_i$ is $\\frac{\\partial R_i}{\\partial \\text{sv}_i\\partial \\text{sv}_j}$, where $R_i$ is the $i^{th}$ pricing function and $\\text{sv}$ is the vector of state variables as in Table 7.1.\n",
    "\n",
    "The rate of change with respect to time is often included along with the first and second order dependencies on the state variables. Let $\\theta_i=\\frac{\\partial R_i}{\\partial t}$ be the rate of change of the $i^{th}$ instrument's pricing function with respect to time. If the $i^{th}$ instrument is cash, for example, then $\\theta_i$ is the risk-free rate.\n",
    "\n",
    "The addition of time dependence to a delta-gamma approximation makes it a **`delta-gamma-theta`** approximation. The approximate pricing delta-gamma-theta pricing function is\n",
    "$$\\tilde{R_i}(\\Delta\\text{sv})=\\Delta\\text{sv}^{\\intercal}\\Gamma_i\\Delta\\text{sv}+\\delta_i^{\\intercal}\\Delta\\text{sv}+\\theta_i\\Delta t\\label{eq:delta_gamma_theta}\\tag{7.21}$$\n",
    "Here we have made the pricing function explicitly dependent on changes rather than on levels; $\\Delta t$ is the length of time in a simulation step. Of course without the last term on the RHS, \\eqref{eq:delta_gamma_theta} is just a delta-gamma approximation.\n",
    "\n",
    "The goal of replacing full valuation functions $R_i$ with approximations $\\tilde{R_i}$ is, as noted above, to save simulation time and complexity. However, each Hessian matrix $\\Gamma_i$ requires $f^2$ parameters, where $f$ is the number of state variables. Reliable estimation of this many parameters can be unrealistic, so lower-dimensional models can be used. In some cases, the off-diagonal elements of the Hessian matrix are assumed to be zero and only the diagonal elements are estimated."
   ]
  },
  {
   "cell_type": "markdown",
   "metadata": {},
   "source": [
    "## 7.4 Stress Testing and Scenario Analysis\n",
    "\n",
    "We have noted that financial markets are subject to Knightian Uncertainty. Efforts to generate a realistic returns distribution for a portfolio assume counterfactually that we are in a world of Knightian Risk, i.e. that we can know all the outcomes and all their associated probabilities. \n",
    "\n",
    "While we clearly aren't always in a world of Knightian Risk, much of the time we are, especially in developed financial markets. For example if we discard the leftmost and rightmost bars of the histogram in Figure 7.1, the remaining observations of an equal-weighted portfolio of currencies do look remarkably normal. But the tail events destroy any hope of normality.\n",
    "\n",
    "We would still have work to do even if we reacquired a state of Knightian Risk at the portfolio level. Suppose that we find a fat-tailed cdf $F(x)$ that is the true generating distribution for portfolio log-returns, so that $F(x)$ describes (to within negligible sampling error) the probability that future empirical log-returns at the portfolio level will be less than or equal to $x$.\n",
    "\n",
    "Knowing $F(x)$ would be helpful, but we still wouldn't know which combination of state variables led to which outcome. Maybe the lower part of the distribution is caused by a cluster of state variables associated with hyperinflation, or maybe it's caused by a cluster of state variables associated with deflation. Or maybe some of the lower tail is caused by each of these, i.e. by completely opposite effects. The cdf F(x), even if it's spot on, might say \"how much\" but it doesn't say \"why.\"\n",
    "\n",
    "But if we're going to prepare our portfolios for the future, we need to have an idea of why they might get into the tails. Because there is typically not enough data to estimate \"why\" &mdash; i.e. which highly unusual combination of state variables might be the one that will lead to the next tail event &mdash; we need to use a more intuitive approach.\n",
    "\n",
    "**`Stress testing`** takes one, or a small number, of key factors in our state variable vector $\\text{sv}$ and **`shocks`** it (them) by a very large move. For example, interest rates generally move by 10 or fewer basis points a day. An interest rate stress test might move rates up or down by 200 basis points. Suppose that the US Treasury 10-year rate is the factor in $\\text{sv}$ representing interest rates; then we would form $\\text{sv}_{\\pm}=\\text{sv}\\pm\\delta_{UST10YR}.02$, where $\\delta_{UST10YR}$ is a $k$-vector of zeroes except for a one in the US Treasury 10-year element. We would then reprice the portfolio $\\text{Port}(R_1(\\text{sv}_{+}),\\dots,R_n(\\text{sv}_{+}))$ (and similarly for $\\text{Port}(R_1(\\text{sv}_{-}),\\dots,R_n(\\text{sv}_{-}))$ to get an idea of the portfolio's response to extreme changes in interest rates.\n",
    "\n",
    "**`Scenario analysis`** envisions a full economic situation affecting many if not all of the factors. **`Historical`** scenario analysis attempts to reproduce the changes in factors during unusual historical periods, such as the Great Depression starting in 1929, or the technology bust of 2000, or the global financial crisis of 2008-2009.\n",
    "\n",
    "**`Hypothetical`** scenario analysis envisions a possible future stressful scenario, such as hyperinflation following a policy error by central banks. Hypothetical scenario analysis starts with a qualitative narrative, but must finish with a $k$-vector $\\text{sv}_{hypothetical}$ that specifies levels or changes in the state variables so that $\\text{Port}(R_1(\\text{sv}_{hypothetical}),\\dots,R_n(\\text{sv}_{hypothetical}))$ can be formed.\n",
    "\n",
    "This can be difficult: for example in a US dollar hyperinflation scenario, analysts might focus carefully on financial variables in the US. But what would happen to the USD/JPY (Japanese yen) exchange rate? Maybe the yen would have even worse hyperinflation, or maybe it would be a haven of stability.\n",
    "\n",
    "If analysts don't have the expertise to form opinions on certain state variables like the Japanese yen, they might use a maximum likelihood method to infer changes from the variables they have opined on. To find maximum likelihood, suppose there is a probability density function $f(\\text{sv})$ operating on the sample space of (changes in) state variable vectors; $f$ might be empirical or based on an assumed distribution like multivariate normal, with mean vector and covariance matrix estimated from historical data.  Let $\\text{sv}_0$ be the $k$-vector containing changes in the variables where expert opinions are available, and zeroes elsewhere. Then we perform an optimization to maximize $f(\\text{sv})$ subject to $\\text{sv}$ agreeing with $\\text{sv}_0$ where $\\text{sv}_0$ contained expert opinions.\n",
    "\n",
    "Both historical and hypothetical scenario analysis require as much art as science. As Mark Twain is supposed to have said, \"History never repeats itself. But it does rhyme.\" There will never be another situation precisely like the financial crisis of 2008-9. Subjecting a portfolio in the year 2020 to the movements of 2008-9 is not going to tell us exactly what will happen in any possible version of the future after 2020. But maybe it will rhyme &mdash; maybe there will be a broadly similar financial situation in the future that we should prepare for. Human judgment needs to be used to determine which of the infinite number of possible extremely unusual futures are the ones we need to pay attention to."
   ]
  },
  {
   "cell_type": "markdown",
   "metadata": {},
   "source": [
    "## Chapter 7 Footnotes\n",
    "<a name=\"seven_footnotes\"></a>\n",
    "<br>\n",
    "$^1$ It's more likely that log-returns follow a multivariate normal distribution than simple returns. Modeling log-returns as multivariate normal requires transformations back to return space; for simplicity we'll avoid those transformations at this point.\n",
    "<br>\n",
    "\n",
    "$^2$ More precisely, this is Euler's Homogenous Function Theorem. It follows directly from the definition of homogeneity $f(zx)=z^k f(x)$ by differentiating both sides with respect to $z$, applying the chain rule, and setting $z=1$."
   ]
  }
 ],
 "metadata": {
  "kernelspec": {
   "display_name": "Python 3",
   "language": "python",
   "name": "python3"
  },
  "language_info": {
   "codemirror_mode": {
    "name": "ipython",
    "version": 3
   },
   "file_extension": ".py",
   "mimetype": "text/x-python",
   "name": "python",
   "nbconvert_exporter": "python",
   "pygments_lexer": "ipython3",
   "version": "3.7.9"
  }
 },
 "nbformat": 4,
 "nbformat_minor": 4
}
